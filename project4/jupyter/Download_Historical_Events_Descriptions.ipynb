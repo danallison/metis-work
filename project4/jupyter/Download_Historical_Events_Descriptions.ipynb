{
 "cells": [
  {
   "cell_type": "code",
   "execution_count": 1,
   "metadata": {},
   "outputs": [],
   "source": [
    "import requests\n",
    "import pymongo\n",
    "import secrets\n",
    "from json import JSONDecoder\n",
    "from time import sleep"
   ]
  },
  {
   "cell_type": "code",
   "execution_count": 2,
   "metadata": {},
   "outputs": [],
   "source": [
    "mongo_client = pymongo.MongoClient(\n",
    "    # Docker hostname\n",
    "    host='mongo',\n",
    "    port=27017, \n",
    "    username=secrets.mongo_user,\n",
    "    password=secrets.mongo_password,\n",
    "    connect=True\n",
    ")"
   ]
  },
  {
   "cell_type": "code",
   "execution_count": 3,
   "metadata": {},
   "outputs": [
    {
     "data": {
      "text/plain": [
       "['admin', 'config', 'historical_events', 'local', 'pair_db']"
      ]
     },
     "execution_count": 3,
     "metadata": {},
     "output_type": "execute_result"
    }
   ],
   "source": [
    "mongo_client.database_names()"
   ]
  },
  {
   "cell_type": "code",
   "execution_count": 4,
   "metadata": {},
   "outputs": [],
   "source": [
    "def add_events_to_list(pairs):\n",
    "    # This custom hook is required because the\n",
    "    # JSON returned from the API is malformed.\n",
    "    d = {}\n",
    "    events = []\n",
    "    for pair in pairs:\n",
    "        key, val = pair\n",
    "        if key == 'event':\n",
    "            events.append(val)\n",
    "        else:\n",
    "            d[key] = val\n",
    "    if len(events) > 0: d['events'] = events\n",
    "    return d\n",
    "\n",
    "decoder = JSONDecoder(object_pairs_hook=add_events_to_list)\n",
    "\n",
    "def decorate_document(document):\n",
    "    document['year'] = int(document['date'].split('/')[0])\n",
    "    return document\n",
    "\n",
    "def get_data_for_year(year):\n",
    "    url = 'http://www.vizgr.org/historical-events/search.php'\n",
    "    params = {\n",
    "        'format': 'json',\n",
    "        'begin_date': '{}0000'.format(year),\n",
    "        'end_date': '{}1231'.format(year),\n",
    "        'lang': 'en'\n",
    "    }\n",
    "    response = requests.get(url, params)\n",
    "    try:\n",
    "        documents = decoder.decode(response.text)['result']['events']\n",
    "        return [decorate_document(doc) for doc in documents]\n",
    "    except:\n",
    "        print(response.text)\n",
    "        if 'No events found for this query.' in response.text:\n",
    "            return []\n",
    "        else:\n",
    "            raise"
   ]
  },
  {
   "cell_type": "code",
   "execution_count": 5,
   "metadata": {},
   "outputs": [
    {
     "name": "stdout",
     "output_type": "stream",
     "text": [
      "No events found for this query.\n"
     ]
    },
    {
     "data": {
      "text/plain": [
       "[]"
      ]
     },
     "execution_count": 5,
     "metadata": {},
     "output_type": "execute_result"
    }
   ],
   "source": [
    "get_data_for_year(1932)"
   ]
  },
  {
   "cell_type": "code",
   "execution_count": 6,
   "metadata": {},
   "outputs": [],
   "source": [
    "db = mongo_client.get_database('historical_events')"
   ]
  },
  {
   "cell_type": "code",
   "execution_count": 7,
   "metadata": {},
   "outputs": [],
   "source": [
    "collection = db.get_collection('event_descriptions')"
   ]
  },
  {
   "cell_type": "code",
   "execution_count": 11,
   "metadata": {},
   "outputs": [
    {
     "name": "stdout",
     "output_type": "stream",
     "text": [
      "No events found for this query.\n",
      "1831\n",
      "No events found for this query.\n",
      "1932\n",
      "2012\r"
     ]
    }
   ],
   "source": [
    "# The events provided by this API only go up to the end of 2012\n",
    "for year in range(1600, 2013):\n",
    "    print(str(year), end='\\r')\n",
    "    if collection.find_one({'year': year}) is None:\n",
    "        sleep(1)\n",
    "        docs = get_data_for_year(year)\n",
    "        if len(docs) > 0:\n",
    "            collection.insert_many(docs)\n",
    "        else:\n",
    "            print(year)"
   ]
  },
  {
   "cell_type": "code",
   "execution_count": 12,
   "metadata": {},
   "outputs": [
    {
     "data": {
      "text/plain": [
       "23911"
      ]
     },
     "execution_count": 12,
     "metadata": {},
     "output_type": "execute_result"
    }
   ],
   "source": [
    "collection.count()"
   ]
  },
  {
   "cell_type": "code",
   "execution_count": 9,
   "metadata": {},
   "outputs": [
    {
     "data": {
      "text/plain": [
       "[{'_id': ObjectId('5b0dc6468384e30063f8a688'),\n",
       "  'date': '1810/01/04',\n",
       "  'description': ' Australian seal hunter Frederick Hasselborough discovers Campbell Island in the subantarctic.{{cite book|last=Mills|first=William James|title=Exploring polar frontiers: a historical encyclopedia|publisher=ABC-CLIO|year=2003|location=Santa Barbara|url=<a href=\"http://books.google.com/books?id=PYdBH4dOOM4Campprintsec=frontcoverampdq=Exploring+polar+frontiersamphl=enampei=I21UTKSmJYWcsQOa2YDbAgampsa=Xampoi=book_resultampct=resultampresnum=1ampved=0CCgQ6AEwAA#v=onepageampqampf=false}}\">http://books.google.com/books?id=PYdBH4dOOM4Campprintsec=frontcoverampdq=Exploring+polar+frontiersamphl=enampei=I21UTKSmJYWcsQOa2YDbAgampsa=Xampoi=book_resultampct=resultampresnum=1ampved=0CCgQ6AEwAA#v=onepageampqampf=false}}</a>',\n",
       "  'lang': 'en',\n",
       "  'category1': 'January&amp;amp;amp;ndash;March',\n",
       "  'granularity': 'year',\n",
       "  'year': 1810},\n",
       " {'_id': ObjectId('5b0dc6468384e30063f8a689'),\n",
       "  'date': '1810/01/12',\n",
       "  'description': ' The marriage of Napoleon and Josephine is annulled.',\n",
       "  'lang': 'en',\n",
       "  'category1': 'January&amp;amp;amp;ndash;March',\n",
       "  'granularity': 'year',\n",
       "  'year': 1810},\n",
       " {'_id': ObjectId('5b0dc6468384e30063f8a68a'),\n",
       "  'date': '1810/02/20',\n",
       "  'description': ' Tyrolean rebel leader Andreas Hofer is executed.',\n",
       "  'lang': 'en',\n",
       "  'category1': 'January&amp;amp;amp;ndash;March',\n",
       "  'granularity': 'year',\n",
       "  'year': 1810},\n",
       " {'_id': ObjectId('5b0dc6468384e30063f8a68b'),\n",
       "  'date': '1810/03/04',\n",
       "  'description': ' Peninsular War: The French Army, under the command of André Masséna, retreats from Portugal.',\n",
       "  'lang': 'en',\n",
       "  'category1': 'January&amp;amp;amp;ndash;March',\n",
       "  'granularity': 'year',\n",
       "  'year': 1810},\n",
       " {'_id': ObjectId('5b0dc6468384e30063f8a68c'),\n",
       "  'date': '1810/03/11',\n",
       "  'description': ' Napoleon marries Marie-Louise of Austria.',\n",
       "  'lang': 'en',\n",
       "  'category1': 'January&amp;amp;amp;ndash;March',\n",
       "  'granularity': 'year',\n",
       "  'year': 1810},\n",
       " {'_id': ObjectId('5b0dc6468384e30063f8a68d'),\n",
       "  'date': '1810/03/20',\n",
       "  'description': ' Venezuela achieves home rule: Vicente Emparán, Governor of the Captaincy General, is removed by the people of Caracas and a junta is installed.',\n",
       "  'lang': 'en',\n",
       "  'category1': 'January&amp;amp;amp;ndash;March',\n",
       "  'granularity': 'year',\n",
       "  'year': 1810},\n",
       " {'_id': ObjectId('5b0dc6468384e30063f8a68e'),\n",
       "  'date': '1810/03/20',\n",
       "  'description': 'April through Summer ampampndash Kingdom of Hawaii unified.',\n",
       "  'lang': 'en',\n",
       "  'category1': 'April&amp;amp;amp;ndash;June',\n",
       "  'granularity': 'year',\n",
       "  'year': 1810},\n",
       " {'_id': ObjectId('5b0dc6468384e30063f8a68f'),\n",
       "  'date': '1810/04/27',\n",
       "  'description': \" Beethoven composes his famous piano piece, ''Für Elise''.\",\n",
       "  'lang': 'en',\n",
       "  'category1': 'April&amp;amp;amp;ndash;June',\n",
       "  'granularity': 'year',\n",
       "  'year': 1810},\n",
       " {'_id': ObjectId('5b0dc6468384e30063f8a690'),\n",
       "  'date': '1810/05/01',\n",
       "  'description': \" Macon's Bill Number 2 becomes law in the United States, intending to motivate Britain and France to stop seizing American vessels during the Napoleonic Wars.\",\n",
       "  'lang': 'en',\n",
       "  'category1': 'April&amp;amp;amp;ndash;June',\n",
       "  'granularity': 'year',\n",
       "  'year': 1810},\n",
       " {'_id': ObjectId('5b0dc6468384e30063f8a691'),\n",
       "  'date': '1810/05/03',\n",
       "  'description': ' Lord Byron swims across the Hellespont in Turkey.ref name=quotPocket On This Dayquot{{cite book|title=Penguin Pocket On This Day|publisher=Penguin Reference Library|isbn=0-14-102715-0|year=2006}}',\n",
       "  'lang': 'en',\n",
       "  'category1': 'April&amp;amp;amp;ndash;June',\n",
       "  'granularity': 'year',\n",
       "  'year': 1810}]"
      ]
     },
     "execution_count": 9,
     "metadata": {},
     "output_type": "execute_result"
    }
   ],
   "source": [
    "list(collection.find({'year': 1810}))[0:10]"
   ]
  },
  {
   "cell_type": "code",
   "execution_count": null,
   "metadata": {},
   "outputs": [],
   "source": []
  }
 ],
 "metadata": {
  "kernelspec": {
   "display_name": "Python 3",
   "language": "python",
   "name": "python3"
  },
  "language_info": {
   "codemirror_mode": {
    "name": "ipython",
    "version": 3
   },
   "file_extension": ".py",
   "mimetype": "text/x-python",
   "name": "python",
   "nbconvert_exporter": "python",
   "pygments_lexer": "ipython3",
   "version": "3.6.5"
  }
 },
 "nbformat": 4,
 "nbformat_minor": 2
}
