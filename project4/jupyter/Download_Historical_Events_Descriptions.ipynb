{
 "cells": [
  {
   "cell_type": "code",
   "execution_count": 1,
   "metadata": {},
   "outputs": [],
   "source": [
    "import requests\n",
    "import pymongo\n",
    "import secrets\n",
    "from json import JSONDecoder\n",
    "from time import sleep"
   ]
  },
  {
   "cell_type": "code",
   "execution_count": 2,
   "metadata": {},
   "outputs": [],
   "source": [
    "mongo_client = pymongo.MongoClient(\n",
    "    # Docker hostname\n",
    "    host='mongo',\n",
    "    port=27017, \n",
    "    username=secrets.mongo_user,\n",
    "    password=secrets.mongo_password,\n",
    "    connect=True\n",
    ")"
   ]
  },
  {
   "cell_type": "code",
   "execution_count": 3,
   "metadata": {},
   "outputs": [
    {
     "data": {
      "text/plain": [
       "['admin', 'config', 'historical_events', 'local', 'pair_db']"
      ]
     },
     "execution_count": 3,
     "metadata": {},
     "output_type": "execute_result"
    }
   ],
   "source": [
    "mongo_client.database_names()"
   ]
  },
  {
   "cell_type": "code",
   "execution_count": 4,
   "metadata": {},
   "outputs": [],
   "source": [
    "def add_events_to_list(pairs):\n",
    "    # This custom hook is required because the\n",
    "    # JSON returned from the API is malformed.\n",
    "    d = {}\n",
    "    events = []\n",
    "    for pair in pairs:\n",
    "        key, val = pair\n",
    "        if key == 'event':\n",
    "            events.append(val)\n",
    "        else:\n",
    "            d[key] = val\n",
    "    if len(events) > 0: d['events'] = events\n",
    "    return d\n",
    "\n",
    "decoder = JSONDecoder(object_pairs_hook=add_events_to_list)\n",
    "\n",
    "def decorate_document(document):\n",
    "    document['year'] = int(document['date'].split('/')[0])\n",
    "    return document\n",
    "\n",
    "def get_data_for_year(year):\n",
    "    url = 'http://www.vizgr.org/historical-events/search.php'\n",
    "    params = {\n",
    "        'format': 'json',\n",
    "        'begin_date': '{}0000'.format(year),\n",
    "        'end_date': '{}1231'.format(year),\n",
    "        'lang': 'en'\n",
    "    }\n",
    "    response = requests.get(url, params)\n",
    "    try:\n",
    "        documents = decoder.decode(response.text)['result']['events']\n",
    "        return [decorate_document(doc) for doc in documents]\n",
    "    except:\n",
    "        print(response.text)\n",
    "        if 'No events found for this query.' in response.text:\n",
    "            return []\n",
    "        else:\n",
    "            raise"
   ]
  },
  {
   "cell_type": "code",
   "execution_count": 5,
   "metadata": {},
   "outputs": [
    {
     "name": "stdout",
     "output_type": "stream",
     "text": [
      "No events found for this query.\n"
     ]
    },
    {
     "data": {
      "text/plain": [
       "[]"
      ]
     },
     "execution_count": 5,
     "metadata": {},
     "output_type": "execute_result"
    }
   ],
   "source": [
    "get_data_for_year(1932)"
   ]
  },
  {
   "cell_type": "code",
   "execution_count": 6,
   "metadata": {},
   "outputs": [],
   "source": [
    "db = mongo_client.get_database('historical_events')"
   ]
  },
  {
   "cell_type": "code",
   "execution_count": 7,
   "metadata": {},
   "outputs": [],
   "source": [
    "collection = db.get_collection('event_descriptions')"
   ]
  },
  {
   "cell_type": "code",
   "execution_count": 8,
   "metadata": {},
   "outputs": [
    {
     "name": "stdout",
     "output_type": "stream",
     "text": [
      "No events found for this query.\n",
      "No events found for this query.\n",
      "No events found for this query.\n",
      "No events found for this query.\n",
      "No events found for this query.\n",
      "No events found for this query.\n"
     ]
    }
   ],
   "source": [
    "# The events provided by this API only go up to the end of 2012\n",
    "for year in range(1900, 2013):\n",
    "    print(str(year), end='\\r')\n",
    "    if collection.find_one({'year': year}) is None:\n",
    "        sleep(1)\n",
    "        docs = get_data_for_year(year)\n",
    "        if len(docs) > 0: collection.insert_many(docs)"
   ]
  },
  {
   "cell_type": "code",
   "execution_count": 9,
   "metadata": {},
   "outputs": [
    {
     "data": {
      "text/plain": [
       "15433"
      ]
     },
     "execution_count": 9,
     "metadata": {},
     "output_type": "execute_result"
    }
   ],
   "source": [
    "collection.count()"
   ]
  },
  {
   "cell_type": "code",
   "execution_count": 11,
   "metadata": {},
   "outputs": [
    {
     "data": {
      "text/plain": [
       "{'_id': ObjectId('5b074b0b21ef7f0013bf86fc'),\n",
       " 'date': '2012/01/23',\n",
       " 'description': ' Iran–European Union relations: The European Union adopts an embargo against Iran in protest of that nation\\'s continued effort to enrich uranium.{{cite news|author=Jonathan Marcus |url=<a href=\"http://www.bbc.co.uk/news/world-europe-16674660\">http://www.bbc.co.uk/news/world-europe-16674660</a> |title=\\'amp#39BBC News\\'amp#39 |publisher=Bbc.co.uk |date=2012-01-23 |accessdate=2012-05-06}}',\n",
       " 'lang': 'en',\n",
       " 'category1': 'January',\n",
       " 'granularity': 'year',\n",
       " 'year': 2012}"
      ]
     },
     "execution_count": 11,
     "metadata": {},
     "output_type": "execute_result"
    }
   ],
   "source": [
    "collection.find_one({'year': 2012})"
   ]
  },
  {
   "cell_type": "code",
   "execution_count": null,
   "metadata": {},
   "outputs": [],
   "source": []
  }
 ],
 "metadata": {
  "kernelspec": {
   "display_name": "Python 3",
   "language": "python",
   "name": "python3"
  },
  "language_info": {
   "codemirror_mode": {
    "name": "ipython",
    "version": 3
   },
   "file_extension": ".py",
   "mimetype": "text/x-python",
   "name": "python",
   "nbconvert_exporter": "python",
   "pygments_lexer": "ipython3",
   "version": "3.6.5"
  }
 },
 "nbformat": 4,
 "nbformat_minor": 2
}
