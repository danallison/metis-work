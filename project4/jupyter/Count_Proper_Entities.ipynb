{
 "cells": [
  {
   "cell_type": "code",
   "execution_count": 1,
   "metadata": {},
   "outputs": [],
   "source": [
    "import nltk\n",
    "from nltk.tag import pos_tag\n",
    "from nltk.tokenize import word_tokenize\n",
    "\n",
    "import numpy as np\n",
    "import matplotlib.pyplot as plt\n",
    "%matplotlib inline\n",
    "plt.style.use('seaborn-darkgrid')\n",
    "\n",
    "from mongo_client import mongo_client"
   ]
  },
  {
   "cell_type": "code",
   "execution_count": 2,
   "metadata": {},
   "outputs": [],
   "source": [
    "# nltk.download('punkt')\n",
    "# nltk.download('averaged_perceptron_tagger')\n",
    "\n",
    "def extract_proper_entities(text):\n",
    "    proper_entities = []\n",
    "    nnp_sequence = []\n",
    "    for word, pos in pos_tag(word_tokenize(text)):\n",
    "        if pos == 'NNP':\n",
    "            nnp_sequence.append(word)\n",
    "        elif len(nnp_sequence) > 1:\n",
    "            proper_entities.append(' '.join(nnp_sequence))\n",
    "            nnp_sequence = []\n",
    "        elif len(nnp_sequence) == 1:\n",
    "            nnp_sequence = []\n",
    "    return proper_entities"
   ]
  },
  {
   "cell_type": "code",
   "execution_count": 14,
   "metadata": {},
   "outputs": [
    {
     "data": {
      "text/plain": [
       "['Frederick Hasselborough',\n",
       " 'Campbell Island',\n",
       " 'Andreas Hofer',\n",
       " 'André Masséna',\n",
       " 'Vicente Emparán',\n",
       " 'Captaincy General',\n",
       " 'Für Elise',\n",
       " 'Bill Number',\n",
       " 'Napoleonic Wars',\n",
       " 'Lord Byron',\n",
       " 'May Revolution',\n",
       " 'Buenos Aires',\n",
       " 'Apprehending Horse Thieves',\n",
       " 'John Jacob Astor',\n",
       " 'Pacific Fur Company',\n",
       " 'Nicolas Appert',\n",
       " 'Frederick Hasselborough',\n",
       " 'Macquarie Island',\n",
       " 'Santa Cruz',\n",
       " 'Jean-Baptiste Bernadotte',\n",
       " 'Crown Prince',\n",
       " 'New York Harbor',\n",
       " 'John Jacob Astor',\n",
       " 'Pacific Fur Company',\n",
       " 'South America',\n",
       " 'Columbia River',\n",
       " 'Miguel Hidalgo',\n",
       " 'Mexican War',\n",
       " 'First National Junta',\n",
       " 'West Florida',\n",
       " 'Jean Baptiste Bernadotte',\n",
       " 'Crown Prince Ludwig',\n",
       " 'Princess Therese',\n",
       " 'West Florida',\n",
       " 'United Kingdom',\n",
       " 'Henri Christophe',\n",
       " 'Alexandre Pétion',\n",
       " 'Amadou Lobbo',\n",
       " 'Chang Pao',\n",
       " 'Ohio River',\n",
       " 'Johann Wolfgang von Goethe',\n",
       " 'George III',\n",
       " 'United Kingdom',\n",
       " 'General Union',\n",
       " 'Saint Petersburg',\n",
       " 'Russian Empire',\n",
       " 'Point Manor',\n",
       " 'West Africa',\n",
       " 'Sake Dean Mahomet',\n",
       " 'Hindoostanee Coffee House']"
      ]
     },
     "execution_count": 14,
     "metadata": {},
     "output_type": "execute_result"
    }
   ],
   "source": [
    "db = mongo_client.get_database('historical_events')\n",
    "collection = db.get_collection('event_descriptions')\n",
    "\n",
    "proper_ents_by_year = {}\n",
    "proper_ent_set = set()\n",
    "for year in range(1800, 2013):\n",
    "    proper_ents = []\n",
    "    for doc in collection.find({'year': year}):\n",
    "        text = doc['description'].split('{{')[0]\n",
    "        proper_ents += extract_proper_entities(text)\n",
    "    proper_ents_by_year[year] = proper_ents\n",
    "    proper_ent_set.update(proper_ents)\n",
    "with open('proper_entities.txt', 'w') as file:\n",
    "    file.write('\\n'.join(proper_ent_set))\n",
    "proper_ents_by_year[1810]"
   ]
  },
  {
   "cell_type": "code",
   "execution_count": 15,
   "metadata": {},
   "outputs": [],
   "source": [
    "from collections import Counter\n",
    "y = 1820\n",
    "c = Counter(proper_ents_by_year[y])"
   ]
  },
  {
   "cell_type": "code",
   "execution_count": 16,
   "metadata": {},
   "outputs": [
    {
     "data": {
      "text/plain": [
       "Counter({'Trienio Liberal': 2,\n",
       "         'Indiana University Bloomington': 1,\n",
       "         'Indiana State Seminary': 1,\n",
       "         'Indiana College': 1,\n",
       "         'Imperial Russian Navy': 1,\n",
       "         'Fabian Gottlieb von Bellingshausen': 1,\n",
       "         'Mikhail Petrovich Lazarev': 1,\n",
       "         'George IV': 1,\n",
       "         'United Kingdom': 1,\n",
       "         'Windsor Castle': 1,\n",
       "         'George III': 1,\n",
       "         'Royal Navy': 1,\n",
       "         'Edward Bransfield': 1,\n",
       "         'Lord Cochrane': 1,\n",
       "         'New York City': 1,\n",
       "         'Sierra Leone': 1,\n",
       "         'Minh Mang': 1,\n",
       "         'Santa María Chiquimula': 1,\n",
       "         'Daoguang Emperor': 1,\n",
       "         'Qing Dynasty': 1,\n",
       "         'Cato Street': 2,\n",
       "         'Ferdinand VII': 1,\n",
       "         'Hans Christian': 1,\n",
       "         'Provisional Governmentquot': 1,\n",
       "         'BC-125 BC': 1,\n",
       "         'Yorgos Kentrotas': 1,\n",
       "         'Pauline Therese': 1,\n",
       "         'John Stuart Mill': 1,\n",
       "         'Guglielmo Pepe': 1,\n",
       "         'Saint Cronan': 1,\n",
       "         'Boys National School': 1,\n",
       "         'Co. Wicklow': 1,\n",
       "         'Bray Male School': 1,\n",
       "         'Ireland Cearbhall Ó Dálaigh': 1,\n",
       "         'Union Chain Bridge': 1,\n",
       "         'River Tweed': 1,\n",
       "         'Captain Samuel Brown': 1,\n",
       "         'John VI': 1,\n",
       "         'James Monroe': 1,\n",
       "         'Joseph Smith': 1,\n",
       "         'New York': 1,\n",
       "         'Argentine Confederation': 1,\n",
       "         'Robert Owen': 1,\n",
       "         'Mount Rainier': 1,\n",
       "         'Encyclopædia Britannica': 1,\n",
       "         'Citadelle Laferrière': 1})"
      ]
     },
     "execution_count": 16,
     "metadata": {},
     "output_type": "execute_result"
    }
   ],
   "source": [
    "c"
   ]
  },
  {
   "cell_type": "code",
   "execution_count": 17,
   "metadata": {},
   "outputs": [
    {
     "data": {
      "text/plain": [
       "Counter({'Trienio Liberal': 2, 'Cato Street': 2})"
      ]
     },
     "execution_count": 17,
     "metadata": {},
     "output_type": "execute_result"
    }
   ],
   "source": [
    "Counter([n for n in proper_ents_by_year[y] if c[n] > 1])"
   ]
  },
  {
   "cell_type": "code",
   "execution_count": 18,
   "metadata": {},
   "outputs": [
    {
     "data": {
      "image/png": "[encoded data removed]",
      "text/plain": [
       "<Figure size 432x288 with 1 Axes>"
      ]
     },
     "metadata": {},
     "output_type": "display_data"
    }
   ],
   "source": [
    "p = 'White House'\n",
    "x = list(proper_ents_by_year.keys())\n",
    "y = [Counter(proper_ents_by_year[year])[p] for year in x]\n",
    "plt.plot(x, y);"
   ]
  },
  {
   "cell_type": "code",
   "execution_count": null,
   "metadata": {},
   "outputs": [],
   "source": []
  },
  {
   "cell_type": "code",
   "execution_count": null,
   "metadata": {},
   "outputs": [],
   "source": []
  }
 ],
 "metadata": {
  "kernelspec": {
   "display_name": "Python 3",
   "language": "python",
   "name": "python3"
  },
  "language_info": {
   "codemirror_mode": {
    "name": "ipython",
    "version": 3
   },
   "file_extension": ".py",
   "mimetype": "text/x-python",
   "name": "python",
   "nbconvert_exporter": "python",
   "pygments_lexer": "ipython3",
   "version": "3.6.5"
  }
 },
 "nbformat": 4,
 "nbformat_minor": 2
}
