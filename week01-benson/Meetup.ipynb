{
 "cells": [
  {
   "cell_type": "code",
   "execution_count": 1,
   "metadata": {},
   "outputs": [],
   "source": [
    "import pandas as pd\n",
    "import numpy as np\n",
    "import matplotlib.pyplot as plt\n",
    "\n",
    "%matplotlib inline"
   ]
  },
  {
   "cell_type": "code",
   "execution_count": 2,
   "metadata": {},
   "outputs": [
    {
     "data": {
      "text/html": [
       "<div>\n",
       "<style>\n",
       "    .dataframe thead tr:only-child th {\n",
       "        text-align: right;\n",
       "    }\n",
       "\n",
       "    .dataframe thead th {\n",
       "        text-align: left;\n",
       "    }\n",
       "\n",
       "    .dataframe tbody tr th {\n",
       "        vertical-align: top;\n",
       "    }\n",
       "</style>\n",
       "<table border=\"1\" class=\"dataframe\">\n",
       "  <thead>\n",
       "    <tr style=\"text-align: right;\">\n",
       "      <th></th>\n",
       "      <th>group_name</th>\n",
       "      <th>yes_rsvp_count</th>\n",
       "      <th>latitude</th>\n",
       "      <th>longitude</th>\n",
       "      <th>station</th>\n",
       "      <th>distance</th>\n",
       "      <th>proximity_weighted_rsvp_count</th>\n",
       "    </tr>\n",
       "  </thead>\n",
       "  <tbody>\n",
       "    <tr>\n",
       "      <th>82</th>\n",
       "      <td>African American Professionals in NYC &amp; New Je...</td>\n",
       "      <td>51</td>\n",
       "      <td>40.735382</td>\n",
       "      <td>-73.974152</td>\n",
       "      <td>14 ST-UNION SQ</td>\n",
       "      <td>0.828617</td>\n",
       "      <td>8.740553</td>\n",
       "    </tr>\n",
       "    <tr>\n",
       "      <th>64</th>\n",
       "      <td>League of Women Coders</td>\n",
       "      <td>66</td>\n",
       "      <td>40.744671</td>\n",
       "      <td>-73.984863</td>\n",
       "      <td>TIMES SQ-42 ST</td>\n",
       "      <td>0.746529</td>\n",
       "      <td>16.729097</td>\n",
       "    </tr>\n",
       "    <tr>\n",
       "      <th>99</th>\n",
       "      <td>Fempower: Women Learning and Growing Together</td>\n",
       "      <td>3</td>\n",
       "      <td>40.723007</td>\n",
       "      <td>-74.000633</td>\n",
       "      <td>FULTON ST</td>\n",
       "      <td>0.989205</td>\n",
       "      <td>0.032386</td>\n",
       "    </tr>\n",
       "    <tr>\n",
       "      <th>66</th>\n",
       "      <td>Women in Hyper Growth Companies</td>\n",
       "      <td>26</td>\n",
       "      <td>40.751904</td>\n",
       "      <td>-73.987900</td>\n",
       "      <td>TIMES SQ-42 ST</td>\n",
       "      <td>0.234939</td>\n",
       "      <td>19.891587</td>\n",
       "    </tr>\n",
       "    <tr>\n",
       "      <th>71</th>\n",
       "      <td>Women of Wearables New York Chapter (W.O.W NY)</td>\n",
       "      <td>8</td>\n",
       "      <td>40.752499</td>\n",
       "      <td>-74.001053</td>\n",
       "      <td>TIMES SQ-42 ST</td>\n",
       "      <td>0.735354</td>\n",
       "      <td>2.117168</td>\n",
       "    </tr>\n",
       "    <tr>\n",
       "      <th>121</th>\n",
       "      <td>Sister's Circle</td>\n",
       "      <td>7</td>\n",
       "      <td>40.678177</td>\n",
       "      <td>-73.944160</td>\n",
       "      <td>BEDFORD PK BLVD</td>\n",
       "      <td>0.930840</td>\n",
       "      <td>0.484118</td>\n",
       "    </tr>\n",
       "    <tr>\n",
       "      <th>43</th>\n",
       "      <td>The Women Tribe</td>\n",
       "      <td>1</td>\n",
       "      <td>40.748219</td>\n",
       "      <td>-73.986435</td>\n",
       "      <td>42 ST-PORT AUTH</td>\n",
       "      <td>0.651340</td>\n",
       "      <td>0.348660</td>\n",
       "    </tr>\n",
       "    <tr>\n",
       "      <th>77</th>\n",
       "      <td>Fiction Addiction: Young Women Hooked on Books</td>\n",
       "      <td>30</td>\n",
       "      <td>40.721016</td>\n",
       "      <td>-73.991058</td>\n",
       "      <td>14 ST-UNION SQ</td>\n",
       "      <td>0.945390</td>\n",
       "      <td>1.638294</td>\n",
       "    </tr>\n",
       "    <tr>\n",
       "      <th>120</th>\n",
       "      <td>Klaatch</td>\n",
       "      <td>1</td>\n",
       "      <td>40.683403</td>\n",
       "      <td>-73.962479</td>\n",
       "      <td>BEDFORD PK BLVD</td>\n",
       "      <td>0.636503</td>\n",
       "      <td>0.363497</td>\n",
       "    </tr>\n",
       "    <tr>\n",
       "      <th>49</th>\n",
       "      <td>NYC Lesbian Social and Travel Group</td>\n",
       "      <td>22</td>\n",
       "      <td>40.750416</td>\n",
       "      <td>-73.987167</td>\n",
       "      <td>42 ST-PORT AUTH</td>\n",
       "      <td>0.494804</td>\n",
       "      <td>11.114319</td>\n",
       "    </tr>\n",
       "  </tbody>\n",
       "</table>\n",
       "</div>"
      ],
      "text/plain": [
       "                                            group_name  yes_rsvp_count  \\\n",
       "82   African American Professionals in NYC & New Je...              51   \n",
       "64                              League of Women Coders              66   \n",
       "99       Fempower: Women Learning and Growing Together               3   \n",
       "66                     Women in Hyper Growth Companies              26   \n",
       "71      Women of Wearables New York Chapter (W.O.W NY)               8   \n",
       "121                                    Sister's Circle               7   \n",
       "43                                     The Women Tribe               1   \n",
       "77      Fiction Addiction: Young Women Hooked on Books              30   \n",
       "120                                            Klaatch               1   \n",
       "49                 NYC Lesbian Social and Travel Group              22   \n",
       "\n",
       "      latitude  longitude          station  distance  \\\n",
       "82   40.735382 -73.974152   14 ST-UNION SQ  0.828617   \n",
       "64   40.744671 -73.984863   TIMES SQ-42 ST  0.746529   \n",
       "99   40.723007 -74.000633        FULTON ST  0.989205   \n",
       "66   40.751904 -73.987900   TIMES SQ-42 ST  0.234939   \n",
       "71   40.752499 -74.001053   TIMES SQ-42 ST  0.735354   \n",
       "121  40.678177 -73.944160  BEDFORD PK BLVD  0.930840   \n",
       "43   40.748219 -73.986435  42 ST-PORT AUTH  0.651340   \n",
       "77   40.721016 -73.991058   14 ST-UNION SQ  0.945390   \n",
       "120  40.683403 -73.962479  BEDFORD PK BLVD  0.636503   \n",
       "49   40.750416 -73.987167  42 ST-PORT AUTH  0.494804   \n",
       "\n",
       "     proximity_weighted_rsvp_count  \n",
       "82                        8.740553  \n",
       "64                       16.729097  \n",
       "99                        0.032386  \n",
       "66                       19.891587  \n",
       "71                        2.117168  \n",
       "121                       0.484118  \n",
       "43                        0.348660  \n",
       "77                        1.638294  \n",
       "120                       0.363497  \n",
       "49                       11.114319  "
      ]
     },
     "execution_count": 2,
     "metadata": {},
     "output_type": "execute_result"
    }
   ],
   "source": [
    "meetup_data = pd.read_csv('meetup_data.csv')\n",
    "meetup_data.sample(10)"
   ]
  },
  {
   "cell_type": "code",
   "execution_count": 3,
   "metadata": {},
   "outputs": [],
   "source": [
    "tech_groups = ['NYC Women in Machine Learning & Data Science','NYC Fintech Women',\n",
    "       'NYC Women Who Go', 'League of Women Coders',\n",
    "       'Women Investing in Women  Entrepreneurs', 'Women Who Code NYC',\n",
    "       'Women in Agile New York City',\n",
    "       'Women in Hyper Growth Companies',\n",
    "       'Techfest Club: the monthly event for women in tech',\n",
    "       'Women  Empowerment, Women Entrepreneurs, Women In Business',\n",
    "       'Write/Speak/Code NYC', 'NY Women in Tech',\n",
    "       'Women of Wearables New York Chapter (W.O.W NY)',\n",
    "       \"Women's Empowerment Group New York\", 'Girl Develop It NYC',\n",
    "       'The Business of WE (Women Entrepreneurs)',\n",
    "       'Women Entrepreneur Resource & Educational Community-New York',\n",
    "       'Empowering Women in Business™ (EWB)', 'NYC-Women in STEM',\n",
    "       'Women in Tech Sales New York',\n",
    "       'New York Women in Crypto & Blockchain Investment Club Meetup',\n",
    "       'ChickTech New York',\n",
    "       'Build with Code - New York City', 'Women Success Strategies',\n",
    "       'NYC Ruby Women',\n",
    "       \"wimlink  women's network for technology and media pros\",\n",
    "       'WAMVentures: Women & Diverse Founders',\n",
    "       'NYC Chapter: ELEVACAO Women Tech Founders',\n",
    "       'New York City Professional Women Meetup',\n",
    "       'Black Software Engineers of NYC']\n",
    "meetup_data = meetup_data[meetup_data.group_name.isin(tech_groups)]"
   ]
  },
  {
   "cell_type": "code",
   "execution_count": 4,
   "metadata": {},
   "outputs": [
    {
     "data": {
      "text/plain": [
       "<matplotlib.legend.Legend at 0x7ff11301fba8>"
      ]
     },
     "execution_count": 4,
     "metadata": {},
     "output_type": "execute_result"
    },
    {
     "data": {
      "image/png": "[encoded data removed]",
      "text/plain": [
       "<matplotlib.figure.Figure at 0x7ff0e7dbb2b0>"
      ]
     },
     "metadata": {},
     "output_type": "display_data"
    }
   ],
   "source": [
    "sum_by_station = meetup_data.groupby('station').sum()\n",
    "sum_by_station.sort_values('proximity_weighted_rsvp_count', ascending=True)[['proximity_weighted_rsvp_count']].plot(kind='barh', figsize=(20, 10), fontsize=20)\n",
    "plt.legend(prop={'size': 20})"
   ]
  },
  {
   "cell_type": "code",
   "execution_count": 5,
   "metadata": {},
   "outputs": [
    {
     "data": {
      "text/plain": [
       "array(['NYC Women Who Go', 'League of Women Coders',\n",
       "       'Women in Agile New York City', 'Women in Hyper Growth Companies',\n",
       "       'Techfest Club: the monthly event for women in tech',\n",
       "       'Women of Wearables New York Chapter (W.O.W NY)',\n",
       "       'Girl Develop It NYC', 'The Business of WE (Women Entrepreneurs)',\n",
       "       'Women Entrepreneur Resource & Educational Community-New York',\n",
       "       'Empowering Women in Business™ (EWB)', 'NYC-Women in STEM',\n",
       "       'Women in Tech Sales New York',\n",
       "       'New York Women in Crypto & Blockchain Investment Club Meetup',\n",
       "       'ChickTech New York', 'Build with Code - New York City',\n",
       "       'Women Success Strategies', 'NYC Ruby Women', 'NYC Fintech Women',\n",
       "       'WAMVentures: Women & Diverse Founders',\n",
       "       'New York City Professional Women Meetup'], dtype=object)"
      ]
     },
     "execution_count": 5,
     "metadata": {},
     "output_type": "execute_result"
    }
   ],
   "source": [
    "meetup_data['group_name'].unique()"
   ]
  },
  {
   "cell_type": "code",
   "execution_count": null,
   "metadata": {},
   "outputs": [],
   "source": []
  }
 ],
 "metadata": {
  "kernelspec": {
   "display_name": "Python 3",
   "language": "python",
   "name": "python3"
  },
  "language_info": {
   "codemirror_mode": {
    "name": "ipython",
    "version": 3
   },
   "file_extension": ".py",
   "mimetype": "text/x-python",
   "name": "python",
   "nbconvert_exporter": "python",
   "pygments_lexer": "ipython3",
   "version": "3.6.1"
  }
 },
 "nbformat": 4,
 "nbformat_minor": 2
}
