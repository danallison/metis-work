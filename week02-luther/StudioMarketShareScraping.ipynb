{
 "cells": [
  {
   "cell_type": "markdown",
   "metadata": {},
   "source": [
    "In this notebook, we use BeautifulSoup to scrape studio market share data from boxofficemojo.com and save the data as a CSV. We also do some exploratory analysis to get a feel for the data.\n",
    "\n",
    "http://www.boxofficemojo.com/studio/?view=company&view2=yearly&yr=2000&p=.htm"
   ]
  },
  {
   "cell_type": "code",
   "execution_count": 1,
   "metadata": {},
   "outputs": [],
   "source": [
    "import requests\n",
    "from time import sleep\n",
    "from bs4 import BeautifulSoup\n",
    "import csv\n",
    "\n",
    "import numpy as np\n",
    "import pandas as pd\n",
    "import matplotlib.pyplot as plt\n",
    "%matplotlib inline\n",
    "plt.style.use('seaborn-darkgrid')"
   ]
  },
  {
   "cell_type": "code",
   "execution_count": 2,
   "metadata": {},
   "outputs": [],
   "source": [
    "build_url = lambda year: 'http://www.boxofficemojo.com/studio/?view=company&view2=yearly&yr={}&p=.htm'.format(year)\n",
    "columns = ['year', 'rank', 'distributor', 'market_share', 'total_gross', 'movies_tracked', 'movies_released']\n",
    "data = [columns]\n",
    "value_functions = {\n",
    "    'rank': int,\n",
    "    'distributor': str,\n",
    "    'market_share': lambda string: float(string.replace('%', '')) / 100,\n",
    "    'total_gross': lambda string: float(string.replace('$', '').replace(',','').replace('k', '000')) * 1e6,\n",
    "    'movies_tracked': int,\n",
    "    'movies_released': int\n",
    "}\n",
    "\n",
    "def get_data_for_year(year):\n",
    "    response = requests.get(build_url(year))\n",
    "    soup = BeautifulSoup(response.text,\"lxml\")\n",
    "    tables = soup.find_all('table')\n",
    "    # The second to last table is the one with the data\n",
    "    rows = tables[-2].find_all('tr')\n",
    "    for row in rows[1:]:\n",
    "        cell_strings = list(map((lambda c: c.text), row.find_all('td')))\n",
    "        cells = [year]\n",
    "        for i, cell_string in enumerate(cell_strings, 1):\n",
    "            cells.append(value_functions[columns[i]](cell_string))\n",
    "        data.append(cells)\n"
   ]
  },
  {
   "cell_type": "code",
   "execution_count": 3,
   "metadata": {},
   "outputs": [],
   "source": [
    "years = range(2000, 2018) # January 2000 through December 2017\n",
    "for year in years:\n",
    "    sleep(1) # Throttle requests\n",
    "    get_data_for_year(year)"
   ]
  },
  {
   "cell_type": "code",
   "execution_count": 4,
   "metadata": {},
   "outputs": [],
   "source": [
    "with open('studio_market_share_by_year.csv', 'w') as studio_csv:\n",
    "    writer = csv.writer(studio_csv)\n",
    "    writer.writerows(data)"
   ]
  },
  {
   "cell_type": "code",
   "execution_count": 5,
   "metadata": {},
   "outputs": [
    {
     "data": {
      "text/html": [
       "<div>\n",
       "<style>\n",
       "    .dataframe thead tr:only-child th {\n",
       "        text-align: right;\n",
       "    }\n",
       "\n",
       "    .dataframe thead th {\n",
       "        text-align: left;\n",
       "    }\n",
       "\n",
       "    .dataframe tbody tr th {\n",
       "        vertical-align: top;\n",
       "    }\n",
       "</style>\n",
       "<table border=\"1\" class=\"dataframe\">\n",
       "  <thead>\n",
       "    <tr style=\"text-align: right;\">\n",
       "      <th></th>\n",
       "      <th>year</th>\n",
       "      <th>rank</th>\n",
       "      <th>distributor</th>\n",
       "      <th>market_share</th>\n",
       "      <th>total_gross</th>\n",
       "      <th>movies_tracked</th>\n",
       "      <th>movies_released</th>\n",
       "    </tr>\n",
       "  </thead>\n",
       "  <tbody>\n",
       "    <tr>\n",
       "      <th>0</th>\n",
       "      <td>2000</td>\n",
       "      <td>1</td>\n",
       "      <td>Buena Vista</td>\n",
       "      <td>0.155</td>\n",
       "      <td>1.175600e+09</td>\n",
       "      <td>30</td>\n",
       "      <td>21</td>\n",
       "    </tr>\n",
       "    <tr>\n",
       "      <th>1</th>\n",
       "      <td>2000</td>\n",
       "      <td>2</td>\n",
       "      <td>Universal</td>\n",
       "      <td>0.141</td>\n",
       "      <td>1.069100e+09</td>\n",
       "      <td>19</td>\n",
       "      <td>13</td>\n",
       "    </tr>\n",
       "    <tr>\n",
       "      <th>2</th>\n",
       "      <td>2000</td>\n",
       "      <td>3</td>\n",
       "      <td>Warner Bros.</td>\n",
       "      <td>0.119</td>\n",
       "      <td>9.053000e+08</td>\n",
       "      <td>28</td>\n",
       "      <td>22</td>\n",
       "    </tr>\n",
       "    <tr>\n",
       "      <th>3</th>\n",
       "      <td>2000</td>\n",
       "      <td>4</td>\n",
       "      <td>Paramount</td>\n",
       "      <td>0.104</td>\n",
       "      <td>7.911000e+08</td>\n",
       "      <td>19</td>\n",
       "      <td>12</td>\n",
       "    </tr>\n",
       "    <tr>\n",
       "      <th>4</th>\n",
       "      <td>2000</td>\n",
       "      <td>5</td>\n",
       "      <td>DreamWorks SKG</td>\n",
       "      <td>0.103</td>\n",
       "      <td>7.772000e+08</td>\n",
       "      <td>12</td>\n",
       "      <td>10</td>\n",
       "    </tr>\n",
       "  </tbody>\n",
       "</table>\n",
       "</div>"
      ],
      "text/plain": [
       "   year  rank     distributor  market_share   total_gross  movies_tracked  \\\n",
       "0  2000     1     Buena Vista         0.155  1.175600e+09              30   \n",
       "1  2000     2       Universal         0.141  1.069100e+09              19   \n",
       "2  2000     3    Warner Bros.         0.119  9.053000e+08              28   \n",
       "3  2000     4       Paramount         0.104  7.911000e+08              19   \n",
       "4  2000     5  DreamWorks SKG         0.103  7.772000e+08              12   \n",
       "\n",
       "   movies_released  \n",
       "0               21  \n",
       "1               13  \n",
       "2               22  \n",
       "3               12  \n",
       "4               10  "
      ]
     },
     "execution_count": 5,
     "metadata": {},
     "output_type": "execute_result"
    }
   ],
   "source": [
    "df = pd.read_csv('studio_market_share_by_year.csv')\n",
    "df.head()"
   ]
  },
  {
   "cell_type": "code",
   "execution_count": null,
   "metadata": {},
   "outputs": [],
   "source": []
  }
 ],
 "metadata": {
  "kernelspec": {
   "display_name": "Python [conda root]",
   "language": "python",
   "name": "conda-root-py"
  },
  "language_info": {
   "codemirror_mode": {
    "name": "ipython",
    "version": 3
   },
   "file_extension": ".py",
   "mimetype": "text/x-python",
   "name": "python",
   "nbconvert_exporter": "python",
   "pygments_lexer": "ipython3",
   "version": "3.6.3"
  }
 },
 "nbformat": 4,
 "nbformat_minor": 2
}
