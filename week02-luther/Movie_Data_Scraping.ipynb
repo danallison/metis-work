{
 "cells": [
  {
   "cell_type": "code",
   "execution_count": 1,
   "metadata": {},
   "outputs": [],
   "source": [
    "import requests\n",
    "from time import sleep\n",
    "from bs4 import BeautifulSoup\n",
    "import csv\n",
    "\n",
    "import numpy as np\n",
    "import pandas as pd\n",
    "import matplotlib.pyplot as plt\n",
    "%matplotlib inline\n",
    "plt.style.use('seaborn-darkgrid')"
   ]
  },
  {
   "cell_type": "markdown",
   "metadata": {},
   "source": [
    "## Gettings the URLs for all the movies\n",
    "\n",
    "1. Get the URLs for the major studios.\n",
    "2. For each major studio, get the URLs for all the pages of movies for that studio.\n",
    "3. For each page of movies, get the URLs of each individual movie."
   ]
  },
  {
   "cell_type": "code",
   "execution_count": 2,
   "metadata": {},
   "outputs": [],
   "source": [
    "response = requests.get('http://www.boxofficemojo.com/studio/?view2=allstudios&view=company&p=.htm')"
   ]
  },
  {
   "cell_type": "code",
   "execution_count": 3,
   "metadata": {},
   "outputs": [],
   "source": [
    "soup = BeautifulSoup(response.text,\"lxml\")\n",
    "tables = soup.find_all('table')"
   ]
  },
  {
   "cell_type": "code",
   "execution_count": 9,
   "metadata": {},
   "outputs": [],
   "source": [
    "hrefs = list(map((lambda a: a['href']), tables[3].find_all('a')))"
   ]
  },
  {
   "cell_type": "code",
   "execution_count": 10,
   "metadata": {},
   "outputs": [
    {
     "data": {
      "text/plain": [
       "['chart/?view=company&view2=allmovies&studio=fox.htm',\n",
       " 'chart/?view=company&view2=allmovies&studio=paramount.htm',\n",
       " 'chart/?view=company&view2=allmovies&studio=buenavista.htm',\n",
       " 'chart/?view=company&view2=allmovies&studio=paramountclassics.htm',\n",
       " 'chart/?view=company&view2=allmovies&studio=dreamworks.htm',\n",
       " 'chart/?view=company&view2=allmovies&studio=sonyrepertory.htm',\n",
       " 'chart/?view=company&view2=allmovies&studio=focus.htm',\n",
       " 'chart/?view=company&view2=allmovies&studio=sonyclassics.htm',\n",
       " 'chart/?view=company&view2=allmovies&studio=foxsearchlight.htm',\n",
       " 'chart/?view=company&view2=allmovies&studio=universal.htm',\n",
       " 'chart/?view=company&view2=allmovies&studio=lionsgate.htm',\n",
       " 'chart/?view=company&view2=allmovies&studio=warnerbros.htm',\n",
       " 'chart/?view=company&view2=allmovies&studio=ua.htm',\n",
       " 'chart/?view=company&view2=allmovies&studio=wip.htm',\n",
       " 'chart/?view=company&view2=allmovies&studio=miramax.htm',\n",
       " 'chart/?view=company&view2=allmovies&studio=weinsteincompany.htm',\n",
       " 'chart/?view=company&view2=allmovies&studio=newline.htm',\n",
       " 'chart/?view=company&view2=allmovies&studio=']"
      ]
     },
     "execution_count": 10,
     "metadata": {},
     "output_type": "execute_result"
    }
   ],
   "source": [
    "hrefs"
   ]
  },
  {
   "cell_type": "code",
   "execution_count": 11,
   "metadata": {},
   "outputs": [],
   "source": [
    "studio_urls = list(map((lambda href: 'http://www.boxofficemojo.com/studio/{}'.format(href)), hrefs))"
   ]
  },
  {
   "cell_type": "code",
   "execution_count": 12,
   "metadata": {},
   "outputs": [
    {
     "data": {
      "text/plain": [
       "['http://www.boxofficemojo.com/studio/chart/?view=company&view2=allmovies&studio=fox.htm',\n",
       " 'http://www.boxofficemojo.com/studio/chart/?view=company&view2=allmovies&studio=paramount.htm',\n",
       " 'http://www.boxofficemojo.com/studio/chart/?view=company&view2=allmovies&studio=buenavista.htm',\n",
       " 'http://www.boxofficemojo.com/studio/chart/?view=company&view2=allmovies&studio=paramountclassics.htm',\n",
       " 'http://www.boxofficemojo.com/studio/chart/?view=company&view2=allmovies&studio=dreamworks.htm',\n",
       " 'http://www.boxofficemojo.com/studio/chart/?view=company&view2=allmovies&studio=sonyrepertory.htm',\n",
       " 'http://www.boxofficemojo.com/studio/chart/?view=company&view2=allmovies&studio=focus.htm',\n",
       " 'http://www.boxofficemojo.com/studio/chart/?view=company&view2=allmovies&studio=sonyclassics.htm',\n",
       " 'http://www.boxofficemojo.com/studio/chart/?view=company&view2=allmovies&studio=foxsearchlight.htm',\n",
       " 'http://www.boxofficemojo.com/studio/chart/?view=company&view2=allmovies&studio=universal.htm',\n",
       " 'http://www.boxofficemojo.com/studio/chart/?view=company&view2=allmovies&studio=lionsgate.htm',\n",
       " 'http://www.boxofficemojo.com/studio/chart/?view=company&view2=allmovies&studio=warnerbros.htm',\n",
       " 'http://www.boxofficemojo.com/studio/chart/?view=company&view2=allmovies&studio=ua.htm',\n",
       " 'http://www.boxofficemojo.com/studio/chart/?view=company&view2=allmovies&studio=wip.htm',\n",
       " 'http://www.boxofficemojo.com/studio/chart/?view=company&view2=allmovies&studio=miramax.htm',\n",
       " 'http://www.boxofficemojo.com/studio/chart/?view=company&view2=allmovies&studio=weinsteincompany.htm',\n",
       " 'http://www.boxofficemojo.com/studio/chart/?view=company&view2=allmovies&studio=newline.htm',\n",
       " 'http://www.boxofficemojo.com/studio/chart/?view=company&view2=allmovies&studio=']"
      ]
     },
     "execution_count": 12,
     "metadata": {},
     "output_type": "execute_result"
    }
   ],
   "source": [
    "studio_urls"
   ]
  },
  {
   "cell_type": "code",
   "execution_count": 13,
   "metadata": {},
   "outputs": [],
   "source": [
    "response = requests.get('http://www.boxofficemojo.com/studio/chart/?view=company&view2=allmovies&studio=fox.htm')"
   ]
  },
  {
   "cell_type": "code",
   "execution_count": 14,
   "metadata": {},
   "outputs": [],
   "source": [
    "soup = BeautifulSoup(response.text,\"lxml\")"
   ]
  },
  {
   "cell_type": "code",
   "execution_count": 25,
   "metadata": {},
   "outputs": [
    {
     "data": {
      "text/plain": [
       "['/movies/?id=avatar.htm',\n",
       " '/movies/?id=starwars.htm',\n",
       " '/movies/?id=starwars3.htm',\n",
       " '/movies/?id=deadpool2016.htm',\n",
       " '/movies/?id=starwars4.htm',\n",
       " '/movies/?id=independenceday.htm',\n",
       " '/movies/?id=starwars2.htm',\n",
       " '/movies/?id=homealone.htm',\n",
       " '/movies/?id=starwars6.htm',\n",
       " '/movies/?id=nightatthemuseum.htm',\n",
       " '/movies/?id=x3.htm',\n",
       " '/movies/?id=xmen2014.htm',\n",
       " '/movies/?id=castaway.htm',\n",
       " '/movies/?id=scott2016.htm',\n",
       " '/movies/?id=wolverine2017.htm',\n",
       " '/movies/?id=alvinandthechipmunksii.htm',\n",
       " '/movies/?id=mrsdoubtfire.htm',\n",
       " '/movies/?id=alvinandthechipmunks.htm',\n",
       " '/movies/?id=x2.htm',\n",
       " '/movies/?id=starwars5.htm',\n",
       " '/movies/?id=dawnoftheapes.htm',\n",
       " '/movies/?id=iceage3.htm',\n",
       " '/movies/?id=iceage2.htm',\n",
       " '/movies/?id=croods.htm',\n",
       " '/movies/?id=dayaftertomorrow.htm',\n",
       " '/movies/?id=mrandmrssmith.htm',\n",
       " '/movies/?id=revenant.htm',\n",
       " '/movies/?id=simpsons.htm',\n",
       " '/movies/?id=planetoftheapes01.htm',\n",
       " '/movies/?id=wolverine.htm',\n",
       " '/movies/?id=happysmekday.htm',\n",
       " '/movies/?id=nightatthemuseum2.htm',\n",
       " '/movies/?id=howtotrainyourdragon2.htm',\n",
       " '/movies/?id=riseoftheapes.htm',\n",
       " '/movies/?id=somethingaboutmary.htm',\n",
       " '/movies/?id=iceage.htm',\n",
       " '/movies/?id=bossbaby.htm',\n",
       " '/movies/?id=homealone2.htm',\n",
       " '/movies/?id=greatestshowman.htm',\n",
       " '/movies/?id=hiddenfigures.htm',\n",
       " '/movies/?id=gonegirl.htm',\n",
       " '/movies/?id=iceage4.htm',\n",
       " '/movies/?id=bullockmccarthy.htm',\n",
       " '/movies/?id=soundofmusic.htm',\n",
       " '/movies/?id=xmen.htm',\n",
       " '/movies/?id=x-men2016.htm',\n",
       " '/movies/?id=fantasticfour.htm',\n",
       " '/movies/?id=hortonhearsawho.htm',\n",
       " '/movies/?id=trolls.htm',\n",
       " '/movies/?id=planetoftheapes16.htm',\n",
       " '/movies/?id=xmenfirstclass.htm',\n",
       " '/movies/?id=truelies.htm',\n",
       " '/movies/?id=taken.htm',\n",
       " '/movies/?id=irobot.htm',\n",
       " '/movies/?id=drdolittle.htm',\n",
       " '/movies/?id=rio.htm',\n",
       " '/movies/?id=kungfupanda3.htm',\n",
       " '/movies/?id=marleyandme.htm',\n",
       " '/movies/?id=taken2.htm',\n",
       " '/movies/?id=cheaperbythedozen.htm',\n",
       " '/movies/?id=starwars4se.htm',\n",
       " '/movies/?id=diehard4.htm',\n",
       " '/movies/?id=alvin3d.htm',\n",
       " '/movies/?id=wolverine2.htm',\n",
       " '/movies/?id=minorityreport.htm',\n",
       " '/movies/?id=fantasticfour2.htm',\n",
       " '/movies/?id=rio2.htm',\n",
       " '/movies/?id=peanuts2015.htm',\n",
       " '/movies/?id=borat.htm',\n",
       " '/movies/?id=secretservice.htm',\n",
       " '/movies/?id=robots.htm',\n",
       " '/movies/?id=prometheus.htm',\n",
       " '/movies/?id=lifeofpi.htm',\n",
       " '/movies/?id=faultinourstars.htm',\n",
       " '/movies/?id=devilwearsprada.htm',\n",
       " '/movies/?id=speed.htm',\n",
       " '/movies/?id=walktheline.htm',\n",
       " '/movies/?id=bigmommashouse.htm',\n",
       " '/movies/?id=diehard2.htm',\n",
       " '/movies/?id=toweringinferno.htm',\n",
       " '/movies/?id=big.htm',\n",
       " '/movies/?id=dodgeball.htm',\n",
       " '/movies/?id=nightatthemuseum3.htm',\n",
       " '/movies/?id=drdolittle2.htm',\n",
       " '/movies/?id=rockyhorrorpictureshow.htm',\n",
       " '/movies/?id=mrpeabodyandsherman.htm',\n",
       " '/movies/?id=susancooper.htm',\n",
       " '/movies/?id=leafmen.htm',\n",
       " '/movies/?id=porkys.htm',\n",
       " '/movies/?id=narnia3.htm',\n",
       " '/movies/?id=9to5.htm',\n",
       " '/movies/?id=id42.htm',\n",
       " '/movies/?id=murderorientexpress17.htm',\n",
       " '/movies/?id=daredevil.htm',\n",
       " '/movies/?id=mazerunner.htm',\n",
       " '/movies/?id=butchcassidyandthesundancekid.htm',\n",
       " '/movies/?id=sleepingwiththeenemy.htm',\n",
       " '/movies/?id=kingsman2.htm',\n",
       " '/movies/?id=diehardwithavengeance.htm',\n",
       " '/movies/?id=datenight.htm']"
      ]
     },
     "execution_count": 25,
     "metadata": {},
     "output_type": "execute_result"
    }
   ],
   "source": [
    "# main_container = soup.find('div', {'id':'body'})\n",
    "# container = main_container.find('center')\n",
    "# hrefs = list(map((lambda a: a['href']), container.find_all('a')))\n",
    "# hrefs\n",
    "tables = soup.find_all('table')\n",
    "rows = tables[2].find_all('tr')[1:]\n",
    "hrefs = [row.find('a')['href'] for row in rows if row.find('a')]\n",
    "hrefs"
   ]
  },
  {
   "cell_type": "code",
   "execution_count": 29,
   "metadata": {},
   "outputs": [],
   "source": [
    "def get_studio_urls():\n",
    "    response = requests.get('http://www.boxofficemojo.com/studio/?view2=allstudios&view=company&p=.htm')\n",
    "    soup = BeautifulSoup(response.text,\"lxml\")\n",
    "    tables = soup.find_all('table')\n",
    "    hrefs = [a['href'] for a in tables[3].find_all('a')]\n",
    "    studio_urls = ['http://www.boxofficemojo.com/studio/{}'.format(href) for href in hrefs]\n",
    "    if studio_urls[-1] == 'http://www.boxofficemojo.com/studio/chart/?view=company&view2=allmovies&studio=':\n",
    "        studio_urls.pop()\n",
    "    return studio_urls\n",
    "\n",
    "def get_additional_page_urls_for_studio(studio_url):\n",
    "    response = requests.get(studio_url)\n",
    "    soup = BeautifulSoup(response.text,\"lxml\")\n",
    "    main_container = soup.find('div', {'id':'body'})\n",
    "    container = main_container.find('center')\n",
    "    if not container: return []\n",
    "    hrefs = [a['href'] for a in container.find_all('a')]\n",
    "    page_urls = ['http://www.boxofficemojo.com{}'.format(href) for href in hrefs]\n",
    "    return page_urls\n",
    "\n",
    "def get_movie_urls_from_studio_page(studio_page_url):\n",
    "    response = requests.get(studio_page_url)\n",
    "    soup = BeautifulSoup(response.text,\"lxml\")\n",
    "    tables = soup.find_all('table')\n",
    "    rows = tables[2].find_all('tr')[1:]\n",
    "    hrefs = [row.find('a')['href'] for row in rows if row.find('a')]\n",
    "    movie_urls = ['http://www.boxofficemojo.com{}'.format(href) for href in hrefs]\n",
    "    return movie_urls"
   ]
  },
  {
   "cell_type": "code",
   "execution_count": 30,
   "metadata": {},
   "outputs": [],
   "source": [
    "studio_urls = get_studio_urls()\n",
    "studio_page_urls = []\n",
    "for studio_url in studio_urls:\n",
    "    sleep(0.2)\n",
    "    studio_page_urls.append(studio_url)\n",
    "    studio_page_urls += get_additional_page_urls_for_studio(studio_url)"
   ]
  },
  {
   "cell_type": "code",
   "execution_count": 32,
   "metadata": {},
   "outputs": [
    {
     "data": {
      "text/plain": [
       "78"
      ]
     },
     "execution_count": 32,
     "metadata": {},
     "output_type": "execute_result"
    }
   ],
   "source": [
    "len(studio_page_urls)"
   ]
  },
  {
   "cell_type": "code",
   "execution_count": 33,
   "metadata": {},
   "outputs": [],
   "source": [
    "movie_urls = []\n",
    "for studio_page_url in studio_page_urls:\n",
    "    sleep(0.2)\n",
    "    movie_urls += get_movie_urls_from_studio_page(studio_page_url)"
   ]
  },
  {
   "cell_type": "code",
   "execution_count": 34,
   "metadata": {},
   "outputs": [
    {
     "data": {
      "text/plain": [
       "6928"
      ]
     },
     "execution_count": 34,
     "metadata": {},
     "output_type": "execute_result"
    }
   ],
   "source": [
    "len(movie_urls)"
   ]
  },
  {
   "cell_type": "code",
   "execution_count": null,
   "metadata": {},
   "outputs": [],
   "source": []
  }
 ],
 "metadata": {
  "kernelspec": {
   "display_name": "Python [conda root]",
   "language": "python",
   "name": "conda-root-py"
  },
  "language_info": {
   "codemirror_mode": {
    "name": "ipython",
    "version": 3
   },
   "file_extension": ".py",
   "mimetype": "text/x-python",
   "name": "python",
   "nbconvert_exporter": "python",
   "pygments_lexer": "ipython3",
   "version": "3.6.3"
  }
 },
 "nbformat": 4,
 "nbformat_minor": 2
}
