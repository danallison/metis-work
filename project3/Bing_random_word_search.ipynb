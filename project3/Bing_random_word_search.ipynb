{
 "cells": [
  {
   "cell_type": "code",
   "execution_count": 1,
   "metadata": {
    "ExecuteTime": {
     "end_time": "2018-05-06T17:29:17.663331Z",
     "start_time": "2018-05-06T17:29:16.987684Z"
    }
   },
   "outputs": [],
   "source": [
    "import pandas as pd\n",
    "import numpy as np\n",
    "import seaborn as sns\n",
    "\n",
    "import matplotlib.pyplot as plt\n",
    "%matplotlib inline\n",
    "plt.style.use('seaborn-darkgrid')\n",
    "\n",
    "import requests\n",
    "from time import sleep\n",
    "from bs4 import BeautifulSoup\n",
    "import csv\n",
    "\n",
    "import secrets"
   ]
  },
  {
   "cell_type": "code",
   "execution_count": 2,
   "metadata": {
    "ExecuteTime": {
     "end_time": "2018-05-06T17:29:18.802296Z",
     "start_time": "2018-05-06T17:29:18.793742Z"
    }
   },
   "outputs": [],
   "source": [
    "valid_urls = set()"
   ]
  },
  {
   "cell_type": "code",
   "execution_count": 3,
   "metadata": {
    "ExecuteTime": {
     "end_time": "2018-05-06T17:29:19.812847Z",
     "start_time": "2018-05-06T17:29:19.795186Z"
    }
   },
   "outputs": [],
   "source": [
    "# response = requests.get('http://duckduckgo.com/html/?q=go&ia=web')\n",
    "# soup = BeautifulSoup(response.text,\"lxml\")\n",
    "# # soup.prettify()\n",
    "# for a in soup.find_all('a'):\n",
    "#     href = a.get('href')\n",
    "#     if href:# and href[0:4] == 'http':\n",
    "#         href = href.split('?')[0]\n",
    "#         valid_urls.add(href)\n",
    "# valid_urls"
   ]
  },
  {
   "cell_type": "code",
   "execution_count": 35,
   "metadata": {
    "ExecuteTime": {
     "end_time": "2018-05-06T19:11:09.281978Z",
     "start_time": "2018-05-06T19:11:09.263812Z"
    }
   },
   "outputs": [],
   "source": [
    "def get_rows_for_search_term(q, mkt='en-US', count=10):\n",
    "    search_url = \"https://api.cognitive.microsoft.com/bing/v7.0/search\"\n",
    "    headers = {\"Ocp-Apim-Subscription-Key\": secrets.azure_api_key}\n",
    "    params  = {\"q\": q, \"mkt\": mkt, \"count\": count}\n",
    "    response = requests.get(search_url, headers=headers, params=params)\n",
    "    response.raise_for_status()\n",
    "    search_results = response.json()\n",
    "    return [[q, mkt, v['url']] for v in search_results['webPages']['value']]"
   ]
  },
  {
   "cell_type": "code",
   "execution_count": 31,
   "metadata": {
    "ExecuteTime": {
     "end_time": "2018-05-06T19:08:36.911331Z",
     "start_time": "2018-05-06T19:08:36.894608Z"
    }
   },
   "outputs": [],
   "source": [
    "csv_rows = [['search_term','market','url']]"
   ]
  },
  {
   "cell_type": "code",
   "execution_count": 15,
   "metadata": {
    "ExecuteTime": {
     "end_time": "2018-05-06T18:25:11.348462Z",
     "start_time": "2018-05-06T18:25:11.336060Z"
    }
   },
   "outputs": [],
   "source": [
    "used_words = set()"
   ]
  },
  {
   "cell_type": "code",
   "execution_count": 30,
   "metadata": {
    "ExecuteTime": {
     "end_time": "2018-05-06T19:06:03.386748Z",
     "start_time": "2018-05-06T19:06:03.374352Z"
    }
   },
   "outputs": [],
   "source": [
    "# For some reason, the Bing API is not allowing non-english speaking markets.\n",
    "# Perhaps a restriction for trial accounts.\n",
    "english_speaking_markets = [\n",
    "  'en-AU',\n",
    "  'en-CA',\n",
    "  'en-IN',\n",
    "  'en-ID',\n",
    "  'en-MY',\n",
    "  'en-NZ',\n",
    "  'en-PH',\n",
    "  'en-ZA',\n",
    "  'en-GB',\n",
    "  'en-US'\n",
    "]\n",
    "esm_len = len(english_speaking_markets)\n",
    "def get_random_mkt():\n",
    "    return english_speaking_markets[np.random.randint(esm_len)]\n",
    "max_results = 50"
   ]
  },
  {
   "cell_type": "code",
   "execution_count": 40,
   "metadata": {
    "ExecuteTime": {
     "end_time": "2018-05-06T19:22:03.373995Z",
     "start_time": "2018-05-06T19:18:36.779295Z"
    }
   },
   "outputs": [],
   "source": [
    "with open('data/random_words.txt', 'r') as random_words:\n",
    "    for q in random_words:\n",
    "        q = q.strip()\n",
    "        if q in used_words: continue\n",
    "        sleep(0.34)\n",
    "        mkt = get_random_mkt()\n",
    "        csv_rows.extend(get_rows_for_search_term(q, mkt, max_results))\n",
    "        used_words.add(q)\n",
    "        if len(csv_rows) > 1e4: break"
   ]
  },
  {
   "cell_type": "code",
   "execution_count": 41,
   "metadata": {
    "ExecuteTime": {
     "end_time": "2018-05-06T19:22:56.859728Z",
     "start_time": "2018-05-06T19:22:56.851724Z"
    }
   },
   "outputs": [
    {
     "data": {
      "text/plain": [
       "10001"
      ]
     },
     "execution_count": 41,
     "metadata": {},
     "output_type": "execute_result"
    }
   ],
   "source": [
    "len(csv_rows)"
   ]
  },
  {
   "cell_type": "code",
   "execution_count": 42,
   "metadata": {
    "ExecuteTime": {
     "end_time": "2018-05-06T19:22:58.750283Z",
     "start_time": "2018-05-06T19:22:58.737953Z"
    }
   },
   "outputs": [
    {
     "data": {
      "text/plain": [
       "210"
      ]
     },
     "execution_count": 42,
     "metadata": {},
     "output_type": "execute_result"
    }
   ],
   "source": [
    "len(used_words)"
   ]
  },
  {
   "cell_type": "code",
   "execution_count": 43,
   "metadata": {
    "ExecuteTime": {
     "end_time": "2018-05-06T19:23:01.810864Z",
     "start_time": "2018-05-06T19:23:01.756507Z"
    }
   },
   "outputs": [],
   "source": [
    "with open('data/bing_search_results.csv', 'w') as results_csv:\n",
    "    writer = csv.writer(results_csv)\n",
    "    writer.writerows(csv_rows)"
   ]
  },
  {
   "cell_type": "code",
   "execution_count": null,
   "metadata": {},
   "outputs": [],
   "source": []
  }
 ],
 "metadata": {
  "kernelspec": {
   "display_name": "Python [conda env:anaconda3]",
   "language": "python",
   "name": "conda-env-anaconda3-py"
  },
  "language_info": {
   "codemirror_mode": {
    "name": "ipython",
    "version": 3
   },
   "file_extension": ".py",
   "mimetype": "text/x-python",
   "name": "python",
   "nbconvert_exporter": "python",
   "pygments_lexer": "ipython3",
   "version": "3.6.3"
  },
  "toc": {
   "base_numbering": 1,
   "nav_menu": {},
   "number_sections": true,
   "sideBar": true,
   "skip_h1_title": false,
   "title_cell": "Table of Contents",
   "title_sidebar": "Contents",
   "toc_cell": false,
   "toc_position": {},
   "toc_section_display": true,
   "toc_window_display": false
  },
  "varInspector": {
   "cols": {
    "lenName": 16,
    "lenType": 16,
    "lenVar": 40
   },
   "kernels_config": {
    "python": {
     "delete_cmd_postfix": "",
     "delete_cmd_prefix": "del ",
     "library": "var_list.py",
     "varRefreshCmd": "print(var_dic_list())"
    },
    "r": {
     "delete_cmd_postfix": ") ",
     "delete_cmd_prefix": "rm(",
     "library": "var_list.r",
     "varRefreshCmd": "cat(var_dic_list()) "
    }
   },
   "types_to_exclude": [
    "module",
    "function",
    "builtin_function_or_method",
    "instance",
    "_Feature"
   ],
   "window_display": false
  }
 },
 "nbformat": 4,
 "nbformat_minor": 2
}
