{
 "cells": [
  {
   "cell_type": "markdown",
   "metadata": {},
   "source": [
    "# Setup"
   ]
  },
  {
   "cell_type": "code",
   "execution_count": 1,
   "metadata": {
    "ExecuteTime": {
     "end_time": "2018-05-08T22:22:17.417341Z",
     "start_time": "2018-05-08T22:22:16.282658Z"
    }
   },
   "outputs": [],
   "source": [
    "from collections import Counter, defaultdict\n",
    "from urllib.parse import urlparse\n",
    "\n",
    "import pandas as pd\n",
    "import numpy as np\n",
    "import seaborn as sns\n",
    "\n",
    "import matplotlib.pyplot as plt\n",
    "%matplotlib inline\n",
    "\n",
    "import project3utils"
   ]
  },
  {
   "cell_type": "code",
   "execution_count": 2,
   "metadata": {
    "ExecuteTime": {
     "end_time": "2018-05-08T22:22:17.582838Z",
     "start_time": "2018-05-08T22:22:17.419200Z"
    }
   },
   "outputs": [],
   "source": [
    "df = pd.read_csv('data/phishtank2018-05-02_verified_online.csv')"
   ]
  },
  {
   "cell_type": "code",
   "execution_count": 3,
   "metadata": {
    "ExecuteTime": {
     "end_time": "2018-05-08T22:22:17.606833Z",
     "start_time": "2018-05-08T22:22:17.584834Z"
    }
   },
   "outputs": [
    {
     "name": "stdout",
     "output_type": "stream",
     "text": [
      "<class 'pandas.core.frame.DataFrame'>\n",
      "RangeIndex: 32660 entries, 0 to 32659\n",
      "Data columns (total 8 columns):\n",
      "phish_id             32660 non-null int64\n",
      "url                  32660 non-null object\n",
      "phish_detail_url     32660 non-null object\n",
      "submission_time      32660 non-null object\n",
      "verified             32660 non-null object\n",
      "verification_time    32660 non-null object\n",
      "online               32660 non-null object\n",
      "target               32660 non-null object\n",
      "dtypes: int64(1), object(7)\n",
      "memory usage: 2.0+ MB\n"
     ]
    }
   ],
   "source": [
    "df.info()"
   ]
  },
  {
   "cell_type": "code",
   "execution_count": 4,
   "metadata": {
    "ExecuteTime": {
     "end_time": "2018-05-08T22:22:21.552961Z",
     "start_time": "2018-05-08T22:22:17.608394Z"
    }
   },
   "outputs": [],
   "source": [
    "df_counts = pd.DataFrame(list(df.head(10000).url.apply(project3utils.get_features_from_url)), dtype=np.float64)"
   ]
  },
  {
   "cell_type": "code",
   "execution_count": 5,
   "metadata": {
    "ExecuteTime": {
     "end_time": "2018-05-08T22:22:22.981988Z",
     "start_time": "2018-05-08T22:22:21.560464Z"
    }
   },
   "outputs": [
    {
     "data": {
      "text/plain": [
       "path_total_chars             31.182200\n",
       "domain_total_chars           15.571100\n",
       "path_consonants              15.438500\n",
       "domain_consonants             8.812400\n",
       "path_vowels                   7.630500\n",
       "domain_vowels                 5.028300\n",
       "path_digits                   4.675100\n",
       "subdomain_total_chars         3.568800\n",
       "path_entropy                  2.370844\n",
       "domain_entropy                2.294947\n",
       "path_char_e                   2.201500\n",
       "subdomain_consonants          2.184000\n",
       "path_char_slash               2.075000\n",
       "path_char_i                   1.648300\n",
       "path_char_a                   1.635800\n",
       "domain_char_o                 1.577600\n",
       "path_char_o                   1.543200\n",
       "path_char_n                   1.501000\n",
       "path_char_c                   1.410200\n",
       "path_char_p                   1.399100\n",
       "path_char_d                   1.280500\n",
       "domain_char_c                 1.172800\n",
       "domain_char_e                 1.169900\n",
       "path_char_t                   1.159500\n",
       "domain_char_dot               1.121900\n",
       "domain_char_a                 1.110700\n",
       "path_char_s                   1.095600\n",
       "path_char_l                   1.090100\n",
       "domain_char_m                 0.964100\n",
       "subdomain_vowels              0.950800\n",
       "                               ...    \n",
       "domain_is_raw_ip              0.009900\n",
       "subdomain_char_z              0.009200\n",
       "domain_char_9                 0.008700\n",
       "subdomain_keyword_recover     0.006700\n",
       "subdomain_keyword_secur       0.003700\n",
       "domain_keyword_secur          0.003600\n",
       "path_keyword_paypal           0.003500\n",
       "subdomain_char_q              0.003200\n",
       "subdomain_keyword_account     0.002700\n",
       "subdomain_keyword_verif       0.002500\n",
       "domain_keyword_login          0.002300\n",
       "domain_keyword_account        0.001800\n",
       "subdomain_keyword_login       0.001600\n",
       "domain_char_colon             0.001200\n",
       "path_char_colon               0.001200\n",
       "domain_keyword_recover        0.001200\n",
       "subdomain_keyword_paypal      0.001100\n",
       "path_keyword_billing          0.001100\n",
       "domain_keyword_paypal         0.000500\n",
       "subdomain_keyword_signin      0.000200\n",
       "subdomain_char_underscore     0.000200\n",
       "domain_keyword_verif          0.000200\n",
       "subdomain_char_colon          0.000100\n",
       "subdomain_keyword_billing     0.000100\n",
       "subdomain_char_slash          0.000000\n",
       "domain_char_slash             0.000000\n",
       "domain_empty_string           0.000000\n",
       "domain_keyword_billing        0.000000\n",
       "domain_keyword_signin         0.000000\n",
       "domain_char_underscore        0.000000\n",
       "Length: 170, dtype: float64"
      ]
     },
     "execution_count": 5,
     "metadata": {},
     "output_type": "execute_result"
    }
   ],
   "source": [
    "df_counts.mean().sort_values(ascending=False)"
   ]
  },
  {
   "cell_type": "code",
   "execution_count": 6,
   "metadata": {
    "ExecuteTime": {
     "end_time": "2018-05-08T22:22:23.001188Z",
     "start_time": "2018-05-08T22:22:22.984516Z"
    }
   },
   "outputs": [
    {
     "data": {
      "text/html": [
       "<div>\n",
       "<style>\n",
       "    .dataframe thead tr:only-child th {\n",
       "        text-align: right;\n",
       "    }\n",
       "\n",
       "    .dataframe thead th {\n",
       "        text-align: left;\n",
       "    }\n",
       "\n",
       "    .dataframe tbody tr th {\n",
       "        vertical-align: top;\n",
       "    }\n",
       "</style>\n",
       "<table border=\"1\" class=\"dataframe\">\n",
       "  <thead>\n",
       "    <tr style=\"text-align: right;\">\n",
       "      <th></th>\n",
       "      <th>url</th>\n",
       "    </tr>\n",
       "  </thead>\n",
       "  <tbody>\n",
       "    <tr>\n",
       "      <th>10039</th>\n",
       "      <td>http://www.radiopublic.com</td>\n",
       "    </tr>\n",
       "    <tr>\n",
       "      <th>10040</th>\n",
       "      <td>http://status.mailchimp.com</td>\n",
       "    </tr>\n",
       "    <tr>\n",
       "      <th>10041</th>\n",
       "      <td>http://game.xiaomi.com/</td>\n",
       "    </tr>\n",
       "    <tr>\n",
       "      <th>10042</th>\n",
       "      <td>https://us.diablo3.com/</td>\n",
       "    </tr>\n",
       "    <tr>\n",
       "      <th>10043</th>\n",
       "      <td>http://www.esrb.org/confirm/blizzard-confirmat...</td>\n",
       "    </tr>\n",
       "  </tbody>\n",
       "</table>\n",
       "</div>"
      ],
      "text/plain": [
       "                                                     url\n",
       "10039                         http://www.radiopublic.com\n",
       "10040                        http://status.mailchimp.com\n",
       "10041                            http://game.xiaomi.com/\n",
       "10042                            https://us.diablo3.com/\n",
       "10043  http://www.esrb.org/confirm/blizzard-confirmat..."
      ]
     },
     "execution_count": 6,
     "metadata": {},
     "output_type": "execute_result"
    }
   ],
   "source": [
    "with open('data/scraped_urls.txt', 'r') as file:\n",
    "    valid_df = pd.DataFrame({'url': [url.strip() for url in file]})\n",
    "valid_df.tail()"
   ]
  },
  {
   "cell_type": "code",
   "execution_count": 7,
   "metadata": {
    "ExecuteTime": {
     "end_time": "2018-05-08T22:22:26.878978Z",
     "start_time": "2018-05-08T22:22:23.003963Z"
    }
   },
   "outputs": [],
   "source": [
    "valid_df_counts = pd.DataFrame(list(valid_df.url.apply(project3utils.get_features_from_url)), dtype=np.float64)"
   ]
  },
  {
   "cell_type": "code",
   "execution_count": 8,
   "metadata": {
    "ExecuteTime": {
     "end_time": "2018-05-08T22:22:28.132447Z",
     "start_time": "2018-05-08T22:22:26.881352Z"
    }
   },
   "outputs": [
    {
     "data": {
      "text/plain": [
       "path_total_chars             15.126145\n",
       "domain_total_chars           12.772800\n",
       "path_consonants               7.230884\n",
       "domain_consonants             7.164576\n",
       "subdomain_total_chars         5.058045\n",
       "domain_vowels                 4.433393\n",
       "path_vowels                   4.151235\n",
       "subdomain_consonants          3.558542\n",
       "domain_entropy                2.191288\n",
       "path_digits                   1.611410\n",
       "domain_char_o                 1.489745\n",
       "subdomain_vowels              1.351752\n",
       "path_entropy                  1.325770\n",
       "path_char_e                   1.185982\n",
       "subdomain_char_w              1.177220\n",
       "domain_char_dot               1.105337\n",
       "path_char_i                   1.033851\n",
       "domain_char_c                 1.027579\n",
       "path_char_a                   0.948029\n",
       "domain_char_i                 0.883015\n",
       "domain_char_a                 0.865691\n",
       "domain_char_e                 0.862007\n",
       "domain_char_m                 0.859518\n",
       "subdomain_entropy             0.844500\n",
       "path_char_t                   0.790621\n",
       "path_char_s                   0.789725\n",
       "domain_char_r                 0.731083\n",
       "path_char_hyphen              0.719434\n",
       "path_char_o                   0.680008\n",
       "path_char_n                   0.665970\n",
       "                               ...    \n",
       "subdomain_keyword_login       0.001991\n",
       "subdomain_char_5              0.001792\n",
       "subdomain_char_4              0.001792\n",
       "domain_char_9                 0.001593\n",
       "subdomain_char_8              0.001394\n",
       "subdomain_char_7              0.001394\n",
       "domain_char_colon             0.001394\n",
       "path_keyword_signin           0.000996\n",
       "path_keyword_verif            0.000796\n",
       "domain_is_raw_ip              0.000796\n",
       "path_keyword_recover          0.000697\n",
       "subdomain_keyword_signin      0.000498\n",
       "domain_empty_string           0.000498\n",
       "domain_keyword_paypal         0.000398\n",
       "domain_keyword_account        0.000199\n",
       "path_keyword_billing          0.000199\n",
       "subdomain_keyword_recover     0.000100\n",
       "path_keyword_paypal           0.000100\n",
       "domain_keyword_signin         0.000100\n",
       "subdomain_keyword_billing     0.000100\n",
       "domain_keyword_billing        0.000100\n",
       "subdomain_char_slash          0.000000\n",
       "domain_keyword_login          0.000000\n",
       "subdomain_char_colon          0.000000\n",
       "subdomain_keyword_verif       0.000000\n",
       "subdomain_char_underscore     0.000000\n",
       "domain_char_slash             0.000000\n",
       "subdomain_keyword_paypal      0.000000\n",
       "domain_keyword_verif          0.000000\n",
       "domain_char_underscore        0.000000\n",
       "Length: 170, dtype: float64"
      ]
     },
     "execution_count": 8,
     "metadata": {},
     "output_type": "execute_result"
    }
   ],
   "source": [
    "valid_df_counts.mean().sort_values(ascending=False)"
   ]
  },
  {
   "cell_type": "code",
   "execution_count": 9,
   "metadata": {
    "ExecuteTime": {
     "end_time": "2018-05-08T22:22:29.720447Z",
     "start_time": "2018-05-08T22:22:28.134866Z"
    }
   },
   "outputs": [
    {
     "data": {
      "text/plain": [
       "is_phishing               1.000000\n",
       "subdomain_empty_string    0.459840\n",
       "path_entropy              0.456112\n",
       "path_ends_in_php          0.430053\n",
       "path_char_slash           0.418053\n",
       "path_char_p               0.382408\n",
       "path_char_dot             0.350024\n",
       "path_consonants           0.297406\n",
       "path_total_chars          0.290490\n",
       "path_char_c               0.288355\n",
       "path_keyword_login        0.286396\n",
       "domain_total_chars        0.283019\n",
       "path_char_o               0.265302\n",
       "domain_consonants         0.261279\n",
       "path_char_n               0.255089\n",
       "path_vowels               0.254044\n",
       "path_char_h               0.253158\n",
       "path_char_m               0.239106\n",
       "path_char_l               0.237881\n",
       "domain_char_0             0.233911\n",
       "path_char_d               0.231249\n",
       "path_char_x               0.219283\n",
       "path_char_e               0.215113\n",
       "domain_digits             0.209968\n",
       "path_char_f               0.205992\n",
       "path_char_g               0.201615\n",
       "domain_entropy            0.199857\n",
       "path_digits               0.191017\n",
       "path_char_b               0.178139\n",
       "domain_char_p             0.176943\n",
       "                            ...   \n",
       "subdomain_char_d         -0.048790\n",
       "subdomain_char_m         -0.049821\n",
       "subdomain_char_i         -0.049977\n",
       "subdomain_char_o         -0.054804\n",
       "subdomain_char_e         -0.062790\n",
       "subdomain_char_g         -0.079225\n",
       "subdomain_char_h         -0.083538\n",
       "subdomain_char_l         -0.085338\n",
       "subdomain_char_p         -0.085475\n",
       "subdomain_char_r         -0.087039\n",
       "subdomain_char_u         -0.090257\n",
       "domain_char_w            -0.091278\n",
       "subdomain_char_a         -0.091774\n",
       "subdomain_char_n         -0.093709\n",
       "subdomain_char_s         -0.095399\n",
       "subdomain_vowels         -0.096760\n",
       "path_char_colon          -0.097068\n",
       "subdomain_char_t         -0.105952\n",
       "path_char_hyphen         -0.122920\n",
       "subdomain_total_chars    -0.129404\n",
       "domain_char_k            -0.135895\n",
       "subdomain_is_www         -0.186249\n",
       "subdomain_entropy        -0.193795\n",
       "subdomain_char_w         -0.207013\n",
       "subdomain_consonants     -0.213515\n",
       "https                    -0.324627\n",
       "path_empty_string        -0.394982\n",
       "domain_char_slash              NaN\n",
       "domain_char_underscore         NaN\n",
       "subdomain_char_slash           NaN\n",
       "Name: is_phishing, Length: 171, dtype: float64"
      ]
     },
     "execution_count": 9,
     "metadata": {},
     "output_type": "execute_result"
    }
   ],
   "source": [
    "df_counts['is_phishing'] = 1\n",
    "valid_df_counts['is_phishing'] = 0\n",
    "\n",
    "data = pd.concat([df_counts, valid_df_counts], ignore_index=True)\n",
    "data.corr()['is_phishing'].sort_values(ascending=False)"
   ]
  },
  {
   "cell_type": "markdown",
   "metadata": {},
   "source": [
    "# Modeling"
   ]
  },
  {
   "cell_type": "code",
   "execution_count": 10,
   "metadata": {
    "ExecuteTime": {
     "end_time": "2018-05-08T22:22:29.957660Z",
     "start_time": "2018-05-08T22:22:29.722720Z"
    }
   },
   "outputs": [],
   "source": [
    "from sklearn.tree import DecisionTreeClassifier\n",
    "from sklearn.svm import LinearSVC, SVC\n",
    "from sklearn.ensemble import RandomForestClassifier\n",
    "from sklearn.linear_model import LogisticRegression\n",
    "from sklearn.naive_bayes import BernoulliNB\n",
    "from sklearn.dummy import DummyClassifier\n",
    "from sklearn.model_selection import train_test_split\n",
    "from sklearn.metrics import f1_score, accuracy_score, classification_report\n",
    "from sklearn.externals import joblib"
   ]
  },
  {
   "cell_type": "code",
   "execution_count": null,
   "metadata": {
    "ExecuteTime": {
     "end_time": "2018-05-07T02:14:01.948851Z",
     "start_time": "2018-05-07T02:14:01.931917Z"
    }
   },
   "outputs": [],
   "source": []
  },
  {
   "cell_type": "code",
   "execution_count": 11,
   "metadata": {
    "ExecuteTime": {
     "end_time": "2018-05-08T22:23:12.709269Z",
     "start_time": "2018-05-08T22:22:29.960672Z"
    }
   },
   "outputs": [
    {
     "name": "stdout",
     "output_type": "stream",
     "text": [
      "### Domain Model ###\n",
      "Accuracy: 0.9100432324575989\n",
      "             precision    recall  f1-score   support\n",
      "\n",
      "          0       0.91      0.91      0.91      3034\n",
      "          1       0.91      0.91      0.91      2980\n",
      "\n",
      "avg / total       0.91      0.91      0.91      6014\n",
      "\n",
      "### Path Model ###\n",
      "Accuracy: 0.8967409378117726\n",
      "             precision    recall  f1-score   support\n",
      "\n",
      "          0       0.88      0.92      0.90      3034\n",
      "          1       0.91      0.87      0.89      2980\n",
      "\n",
      "avg / total       0.90      0.90      0.90      6014\n",
      "\n",
      "### Meta Model ###\n",
      "Accuracy: 0.9220152976388427\n",
      "             precision    recall  f1-score   support\n",
      "\n",
      "          0       0.94      0.90      0.92      3034\n",
      "          1       0.90      0.94      0.92      2980\n",
      "\n",
      "avg / total       0.92      0.92      0.92      6014\n",
      "\n"
     ]
    }
   ],
   "source": [
    "models = []\n",
    "X = data[project3utils.numeric_feature_columns]\n",
    "y = data['is_phishing']\n",
    "X_train, X_test, y_train, y_test = train_test_split(X, y, test_size=0.3, random_state=987)\n",
    "meta_model_X_train = None\n",
    "meta_model_X_test = None\n",
    "for i, feature_columns in enumerate([project3utils.nonpath_feature_columns, project3utils.path_feature_columns]):\n",
    "    Xa_train, Xa_test = X_train[feature_columns], X_test[feature_columns]\n",
    "    # model = DummyClassifier()\n",
    "    # model = LogisticRegression()\n",
    "    # model = LinearSVC()\n",
    "    # model = SVC()\n",
    "    # model = DecisionTreeClassifier()\n",
    "    model = RandomForestClassifier(n_estimators=80, criterion='gini')\n",
    "    # model = GaussianNB()\n",
    "    model.fit(Xa_train, y_train)\n",
    "    predictions = model.predict(Xa_test)\n",
    "    print('### {} Model ###'.format(['Domain', 'Path'][i]))\n",
    "    print(\"Accuracy: {}\".format(accuracy_score(y_test, predictions)))\n",
    "    print(classification_report(y_test, predictions))\n",
    "    models.append(model)\n",
    "    if i == 0:\n",
    "        meta_model_X_train = np.array([model.predict(Xa_train)]).T\n",
    "        meta_model_X_test = np.array([model.predict(Xa_test)]).T\n",
    "    else:\n",
    "        meta_model_X_train = np.append(meta_model_X_train, np.array([model.predict(Xa_train)]).T, 1)\n",
    "        meta_model_X_test = np.append(meta_model_X_test, np.array([model.predict(Xa_test)]).T, 1)\n",
    "\n",
    "meta_model_X_train = np.append(meta_model_X_train, X_train, 1)\n",
    "meta_model_X_test = np.append(meta_model_X_test, X_test, 1)\n",
    "meta_model = SVC()\n",
    "meta_model.fit(meta_model_X_train, y_train)\n",
    "predictions = meta_model.predict(meta_model_X_test)\n",
    "print('### Meta Model ###')\n",
    "print(\"Accuracy: {}\".format(accuracy_score(y_test, predictions)))\n",
    "print(classification_report(y_test, predictions))"
   ]
  },
  {
   "cell_type": "code",
   "execution_count": 12,
   "metadata": {
    "ExecuteTime": {
     "end_time": "2018-05-08T22:23:12.722413Z",
     "start_time": "2018-05-08T22:23:12.711466Z"
    }
   },
   "outputs": [],
   "source": [
    "def predict_for_url(url):\n",
    "    features = project3utils.get_features_from_url(url)\n",
    "    numeric_features = [features[c] for c in project3utils.numeric_feature_columns]\n",
    "    nonpath_features = [features[c] for c in project3utils.nonpath_feature_columns]\n",
    "    path_features = [features[c] for c in project3utils.path_feature_columns]\n",
    "    domain_prediction = models[0].predict([nonpath_features])\n",
    "    path_prediction = models[1].predict([path_features])\n",
    "    meta_prediction = meta_model.predict([[domain_prediction, path_prediction] + numeric_features])\n",
    "    return {\n",
    "        'domain': domain_prediction[0],\n",
    "        'path': path_prediction[0],\n",
    "        'meta': meta_prediction[0]\n",
    "    }"
   ]
  },
  {
   "cell_type": "code",
   "execution_count": 13,
   "metadata": {
    "ExecuteTime": {
     "end_time": "2018-05-08T22:23:12.740531Z",
     "start_time": "2018-05-08T22:23:12.724135Z"
    }
   },
   "outputs": [
    {
     "data": {
      "text/plain": [
       "{'domain': 0, 'meta': 0, 'path': 0}"
      ]
     },
     "execution_count": 13,
     "metadata": {},
     "output_type": "execute_result"
    }
   ],
   "source": [
    "predict_for_url('http://q.pet-dog-cat-supply-store.com')"
   ]
  },
  {
   "cell_type": "code",
   "execution_count": 14,
   "metadata": {
    "ExecuteTime": {
     "end_time": "2018-05-08T22:23:13.287646Z",
     "start_time": "2018-05-08T22:23:12.742213Z"
    }
   },
   "outputs": [
    {
     "data": {
      "text/plain": [
       "['meta_model.pkl']"
      ]
     },
     "execution_count": 14,
     "metadata": {},
     "output_type": "execute_result"
    }
   ],
   "source": [
    "joblib.dump(models[0], 'domain_model.pkl')\n",
    "joblib.dump(models[1], 'path_model.pkl')\n",
    "joblib.dump(meta_model, 'meta_model.pkl')"
   ]
  },
  {
   "cell_type": "code",
   "execution_count": null,
   "metadata": {
    "ExecuteTime": {
     "end_time": "2018-05-07T21:25:38.988679Z",
     "start_time": "2018-05-07T21:25:38.978077Z"
    }
   },
   "outputs": [],
   "source": []
  },
  {
   "cell_type": "code",
   "execution_count": 15,
   "metadata": {
    "ExecuteTime": {
     "end_time": "2018-05-08T22:23:13.298080Z",
     "start_time": "2018-05-08T22:23:13.290504Z"
    }
   },
   "outputs": [],
   "source": [
    "from sklearn.neural_network import MLPClassifier"
   ]
  },
  {
   "cell_type": "code",
   "execution_count": 16,
   "metadata": {
    "ExecuteTime": {
     "end_time": "2018-05-08T22:23:13.306849Z",
     "start_time": "2018-05-08T22:23:13.300703Z"
    }
   },
   "outputs": [],
   "source": [
    "# def url_as_vector(url):\n",
    "#     vec = [0] * 64\n",
    "#     for i in range(min(len(url), len(vec))):\n",
    "#         vec[i] = ord(url[i])\n",
    "#     return vec\n",
    "# phish_vectors = pd.DataFrame(list(df.head(10000).url.apply(url_as_vector)), dtype=np.float64)\n",
    "# phish_vectors = pd.concat([phish_vectors, df_counts[project3utils.numeric_feature_columns]], axis=1)\n",
    "# phish_vectors['is_phishing'] = 1\n",
    "# valid_vectors = pd.DataFrame(list(valid_df.url.apply(url_as_vector)), dtype=np.float64)\n",
    "# valid_vectors = pd.concat([valid_vectors, valid_df_counts[project3utils.numeric_feature_columns]], axis=1)\n",
    "# valid_vectors['is_phishing'] = 0\n",
    "# data = pd.concat([phish_vectors, valid_vectors], ignore_index=True)\n",
    "# X = data.drop(['is_phishing'], axis=1)\n",
    "# y = data['is_phishing']\n",
    "# X.head()"
   ]
  },
  {
   "cell_type": "code",
   "execution_count": 17,
   "metadata": {
    "ExecuteTime": {
     "end_time": "2018-05-08T22:23:13.313078Z",
     "start_time": "2018-05-08T22:23:13.309547Z"
    }
   },
   "outputs": [],
   "source": [
    "# X_train, X_test, y_train, y_test = train_test_split(X, y, test_size=0.3, random_state=789)"
   ]
  },
  {
   "cell_type": "code",
   "execution_count": 25,
   "metadata": {
    "ExecuteTime": {
     "end_time": "2018-05-08T22:30:23.533873Z",
     "start_time": "2018-05-08T22:30:03.282268Z"
    }
   },
   "outputs": [
    {
     "name": "stdout",
     "output_type": "stream",
     "text": [
      "Accuracy: 0.9298303957432658\n",
      "             precision    recall  f1-score   support\n",
      "\n",
      "          0       0.93      0.93      0.93      3034\n",
      "          1       0.93      0.93      0.93      2980\n",
      "\n",
      "avg / total       0.93      0.93      0.93      6014\n",
      "\n"
     ]
    }
   ],
   "source": [
    "nn_clf = MLPClassifier(hidden_layer_sizes=(2 * X.shape[1],), activation='relu', max_iter=400, tol=0.00001)\n",
    "nn_clf.fit(X_train, y_train)\n",
    "predictions = nn_clf.predict(X_test)\n",
    "print(\"Accuracy: {}\".format(accuracy_score(y_test, predictions)))\n",
    "print(classification_report(y_test, predictions))"
   ]
  },
  {
   "cell_type": "code",
   "execution_count": 19,
   "metadata": {
    "ExecuteTime": {
     "end_time": "2018-05-08T22:24:11.424792Z",
     "start_time": "2018-05-08T22:24:11.015841Z"
    }
   },
   "outputs": [
    {
     "ename": "IndexError",
     "evalue": "index 170 is out of bounds for axis 0 with size 170",
     "output_type": "error",
     "traceback": [
      "\u001b[0;31m---------------------------------------------------------------------------\u001b[0m",
      "\u001b[0;31mIndexError\u001b[0m                                Traceback (most recent call last)",
      "\u001b[0;32m<ipython-input-19-94f1ef1e683c>\u001b[0m in \u001b[0;36m<module>\u001b[0;34m()\u001b[0m\n\u001b[1;32m      4\u001b[0m     \u001b[0;32mfor\u001b[0m \u001b[0mi\u001b[0m\u001b[0;34m,\u001b[0m \u001b[0mc_1\u001b[0m \u001b[0;32min\u001b[0m \u001b[0menumerate\u001b[0m\u001b[0;34m(\u001b[0m\u001b[0mc_0\u001b[0m\u001b[0;34m)\u001b[0m\u001b[0;34m:\u001b[0m\u001b[0;34m\u001b[0m\u001b[0m\n\u001b[1;32m      5\u001b[0m         \u001b[0;32mfor\u001b[0m \u001b[0mj\u001b[0m\u001b[0;34m,\u001b[0m \u001b[0mc_2\u001b[0m \u001b[0;32min\u001b[0m \u001b[0menumerate\u001b[0m\u001b[0;34m(\u001b[0m\u001b[0mc_1\u001b[0m\u001b[0;34m)\u001b[0m\u001b[0;34m:\u001b[0m\u001b[0;34m\u001b[0m\u001b[0m\n\u001b[0;32m----> 6\u001b[0;31m             \u001b[0mfeature_weights\u001b[0m\u001b[0;34m[\u001b[0m\u001b[0mj\u001b[0m\u001b[0;34m]\u001b[0m\u001b[0;34m[\u001b[0m\u001b[0mX_train\u001b[0m\u001b[0;34m.\u001b[0m\u001b[0mcolumns\u001b[0m\u001b[0;34m[\u001b[0m\u001b[0mi\u001b[0m\u001b[0;34m]\u001b[0m\u001b[0;34m]\u001b[0m \u001b[0;34m=\u001b[0m \u001b[0mc_2\u001b[0m\u001b[0;34m\u001b[0m\u001b[0m\n\u001b[0m",
      "\u001b[0;32m~/anaconda3/lib/python3.6/site-packages/pandas/core/indexes/base.py\u001b[0m in \u001b[0;36m__getitem__\u001b[0;34m(self, key)\u001b[0m\n\u001b[1;32m   1687\u001b[0m \u001b[0;34m\u001b[0m\u001b[0m\n\u001b[1;32m   1688\u001b[0m         \u001b[0;32mif\u001b[0m \u001b[0mis_scalar\u001b[0m\u001b[0;34m(\u001b[0m\u001b[0mkey\u001b[0m\u001b[0;34m)\u001b[0m\u001b[0;34m:\u001b[0m\u001b[0;34m\u001b[0m\u001b[0m\n\u001b[0;32m-> 1689\u001b[0;31m             \u001b[0;32mreturn\u001b[0m \u001b[0mgetitem\u001b[0m\u001b[0;34m(\u001b[0m\u001b[0mkey\u001b[0m\u001b[0;34m)\u001b[0m\u001b[0;34m\u001b[0m\u001b[0m\n\u001b[0m\u001b[1;32m   1690\u001b[0m \u001b[0;34m\u001b[0m\u001b[0m\n\u001b[1;32m   1691\u001b[0m         \u001b[0;32mif\u001b[0m \u001b[0misinstance\u001b[0m\u001b[0;34m(\u001b[0m\u001b[0mkey\u001b[0m\u001b[0;34m,\u001b[0m \u001b[0mslice\u001b[0m\u001b[0;34m)\u001b[0m\u001b[0;34m:\u001b[0m\u001b[0;34m\u001b[0m\u001b[0m\n",
      "\u001b[0;31mIndexError\u001b[0m: index 170 is out of bounds for axis 0 with size 170"
     ]
    }
   ],
   "source": [
    "# from collections import defaultdict\n",
    "# feature_weights = defaultdict(dict)\n",
    "# for c_0 in nn_clf.coefs_:\n",
    "#     for i, c_1 in enumerate(c_0):\n",
    "#         for j, c_2 in enumerate(c_1):\n",
    "#             feature_weights[j][X_train.columns[i]] = c_2"
   ]
  },
  {
   "cell_type": "code",
   "execution_count": null,
   "metadata": {
    "ExecuteTime": {
     "end_time": "2018-05-08T22:24:11.425842Z",
     "start_time": "2018-05-08T22:22:16.411Z"
    }
   },
   "outputs": [],
   "source": [
    "# for i in feature_weights.keys():\n",
    "#     print(i)\n",
    "#     for f in sorted(feature_weights[i].items(), reverse=True, key=lambda w: w[1])[0:10]:\n",
    "#         print(i, f)"
   ]
  },
  {
   "cell_type": "code",
   "execution_count": 22,
   "metadata": {
    "ExecuteTime": {
     "end_time": "2018-05-08T22:28:04.231974Z",
     "start_time": "2018-05-08T22:28:04.206194Z"
    }
   },
   "outputs": [
    {
     "data": {
      "text/plain": [
       "(20044, 170)"
      ]
     },
     "execution_count": 22,
     "metadata": {},
     "output_type": "execute_result"
    }
   ],
   "source": [
    "X.shape"
   ]
  },
  {
   "cell_type": "code",
   "execution_count": null,
   "metadata": {},
   "outputs": [],
   "source": []
  }
 ],
 "metadata": {
  "kernelspec": {
   "display_name": "Python [conda env:anaconda3]",
   "language": "python",
   "name": "conda-env-anaconda3-py"
  },
  "language_info": {
   "codemirror_mode": {
    "name": "ipython",
    "version": 3
   },
   "file_extension": ".py",
   "mimetype": "text/x-python",
   "name": "python",
   "nbconvert_exporter": "python",
   "pygments_lexer": "ipython3",
   "version": "3.6.3"
  },
  "toc": {
   "base_numbering": 1,
   "nav_menu": {},
   "number_sections": true,
   "sideBar": true,
   "skip_h1_title": false,
   "title_cell": "Table of Contents",
   "title_sidebar": "Contents",
   "toc_cell": false,
   "toc_position": {},
   "toc_section_display": true,
   "toc_window_display": false
  },
  "varInspector": {
   "cols": {
    "lenName": 16,
    "lenType": 16,
    "lenVar": 40
   },
   "kernels_config": {
    "python": {
     "delete_cmd_postfix": "",
     "delete_cmd_prefix": "del ",
     "library": "var_list.py",
     "varRefreshCmd": "print(var_dic_list())"
    },
    "r": {
     "delete_cmd_postfix": ") ",
     "delete_cmd_prefix": "rm(",
     "library": "var_list.r",
     "varRefreshCmd": "cat(var_dic_list()) "
    }
   },
   "types_to_exclude": [
    "module",
    "function",
    "builtin_function_or_method",
    "instance",
    "_Feature"
   ],
   "window_display": false
  }
 },
 "nbformat": 4,
 "nbformat_minor": 2
}
