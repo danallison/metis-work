{
 "cells": [
  {
   "cell_type": "markdown",
   "metadata": {},
   "source": [
    "# Setup"
   ]
  },
  {
   "cell_type": "code",
   "execution_count": 1,
   "metadata": {
    "ExecuteTime": {
     "end_time": "2018-05-06T19:45:50.488652Z",
     "start_time": "2018-05-06T19:45:49.767511Z"
    }
   },
   "outputs": [],
   "source": [
    "from collections import Counter, defaultdict\n",
    "from urllib.parse import urlparse\n",
    "\n",
    "import pandas as pd\n",
    "import numpy as np\n",
    "import seaborn as sns\n",
    "\n",
    "import matplotlib.pyplot as plt\n",
    "%matplotlib inline\n",
    "\n",
    "import project3utils"
   ]
  },
  {
   "cell_type": "code",
   "execution_count": 2,
   "metadata": {
    "ExecuteTime": {
     "end_time": "2018-05-06T19:45:51.340705Z",
     "start_time": "2018-05-06T19:45:51.196585Z"
    }
   },
   "outputs": [],
   "source": [
    "df = pd.read_csv('data/phishtank2018-05-02_verified_online.csv')"
   ]
  },
  {
   "cell_type": "code",
   "execution_count": 3,
   "metadata": {
    "ExecuteTime": {
     "end_time": "2018-05-06T19:45:52.151972Z",
     "start_time": "2018-05-06T19:45:52.087318Z"
    }
   },
   "outputs": [
    {
     "name": "stdout",
     "output_type": "stream",
     "text": [
      "<class 'pandas.core.frame.DataFrame'>\n",
      "RangeIndex: 32660 entries, 0 to 32659\n",
      "Data columns (total 8 columns):\n",
      "phish_id             32660 non-null int64\n",
      "url                  32660 non-null object\n",
      "phish_detail_url     32660 non-null object\n",
      "submission_time      32660 non-null object\n",
      "verified             32660 non-null object\n",
      "verification_time    32660 non-null object\n",
      "online               32660 non-null object\n",
      "target               32660 non-null object\n",
      "dtypes: int64(1), object(7)\n",
      "memory usage: 2.0+ MB\n"
     ]
    }
   ],
   "source": [
    "df.info()"
   ]
  },
  {
   "cell_type": "code",
   "execution_count": 4,
   "metadata": {
    "ExecuteTime": {
     "end_time": "2018-05-06T19:45:54.461059Z",
     "start_time": "2018-05-06T19:45:53.267415Z"
    }
   },
   "outputs": [],
   "source": [
    "df_counts = pd.DataFrame(list(df.head(10000).url.apply(project3utils.get_features_from_url)), dtype=np.float64)"
   ]
  },
  {
   "cell_type": "code",
   "execution_count": 5,
   "metadata": {
    "ExecuteTime": {
     "end_time": "2018-05-06T19:45:56.633414Z",
     "start_time": "2018-05-06T19:45:56.158648Z"
    }
   },
   "outputs": [
    {
     "data": {
      "text/plain": [
       "domain_total_chars       15.4995\n",
       "domain_consonants         8.8124\n",
       "domain_vowels             5.0283\n",
       "subdomain_total_chars     3.6305\n",
       "subdomain_consonants      2.1840\n",
       "domain_char_o             1.5776\n",
       "domain_char_c             1.1728\n",
       "domain_char_e             1.1699\n",
       "domain_char_a             1.1107\n",
       "domain_char_dot           1.1021\n",
       "domain_char_m             0.9641\n",
       "subdomain_vowels          0.9508\n",
       "domain_char_i             0.8223\n",
       "domain_char_s             0.8038\n",
       "domain_char_t             0.7929\n",
       "domain_char_r             0.7733\n",
       "domain_char_n             0.7430\n",
       "subdomain_char_w          0.6191\n",
       "domain_char_l             0.5679\n",
       "domain_char_p             0.5055\n",
       "domain_digits             0.4190\n",
       "domain_char_g             0.3959\n",
       "domain_char_h             0.3809\n",
       "subdomain_digits          0.3649\n",
       "domain_char_b             0.3509\n",
       "domain_char_u             0.3478\n",
       "domain_char_d             0.3333\n",
       "domain_char_0             0.3047\n",
       "subdomain_char_e          0.3045\n",
       "domain_char_w             0.2002\n",
       "                          ...   \n",
       "subdomain_char_1          0.0527\n",
       "subdomain_char_h          0.0518\n",
       "subdomain_char_0          0.0497\n",
       "domain_char_j             0.0476\n",
       "subdomain_char_2          0.0473\n",
       "subdomain_char_v          0.0469\n",
       "subdomain_char_k          0.0440\n",
       "subdomain_char_y          0.0370\n",
       "subdomain_char_3          0.0365\n",
       "subdomain_char_6          0.0352\n",
       "subdomain_char_4          0.0315\n",
       "subdomain_char_8          0.0303\n",
       "subdomain_char_7          0.0285\n",
       "subdomain_char_5          0.0284\n",
       "domain_char_q             0.0270\n",
       "domain_char_1             0.0263\n",
       "subdomain_char_9          0.0248\n",
       "domain_char_2             0.0197\n",
       "subdomain_char_j          0.0187\n",
       "domain_char_4             0.0149\n",
       "subdomain_char_x          0.0145\n",
       "domain_char_3             0.0143\n",
       "domain_char_6             0.0102\n",
       "domain_is_raw_ip          0.0099\n",
       "subdomain_char_z          0.0092\n",
       "domain_char_8             0.0087\n",
       "domain_char_9             0.0077\n",
       "domain_char_5             0.0070\n",
       "domain_char_7             0.0055\n",
       "subdomain_char_q          0.0032\n",
       "Length: 87, dtype: float64"
      ]
     },
     "execution_count": 5,
     "metadata": {},
     "output_type": "execute_result"
    }
   ],
   "source": [
    "df_counts.mean().sort_values(ascending=False)"
   ]
  },
  {
   "cell_type": "code",
   "execution_count": 6,
   "metadata": {
    "ExecuteTime": {
     "end_time": "2018-05-06T19:46:09.182724Z",
     "start_time": "2018-05-06T19:46:09.144908Z"
    }
   },
   "outputs": [
    {
     "data": {
      "text/html": [
       "<div>\n",
       "<style>\n",
       "    .dataframe thead tr:only-child th {\n",
       "        text-align: right;\n",
       "    }\n",
       "\n",
       "    .dataframe thead th {\n",
       "        text-align: left;\n",
       "    }\n",
       "\n",
       "    .dataframe tbody tr th {\n",
       "        vertical-align: top;\n",
       "    }\n",
       "</style>\n",
       "<table border=\"1\" class=\"dataframe\">\n",
       "  <thead>\n",
       "    <tr style=\"text-align: right;\">\n",
       "      <th></th>\n",
       "      <th>search_term</th>\n",
       "      <th>market</th>\n",
       "      <th>url</th>\n",
       "    </tr>\n",
       "  </thead>\n",
       "  <tbody>\n",
       "    <tr>\n",
       "      <th>0</th>\n",
       "      <td>management</td>\n",
       "      <td>en-US</td>\n",
       "      <td>https://www.merriam-webster.com/dictionary/man...</td>\n",
       "    </tr>\n",
       "    <tr>\n",
       "      <th>1</th>\n",
       "      <td>management</td>\n",
       "      <td>en-US</td>\n",
       "      <td>https://en.wikipedia.org/wiki/Management</td>\n",
       "    </tr>\n",
       "    <tr>\n",
       "      <th>2</th>\n",
       "      <td>management</td>\n",
       "      <td>en-US</td>\n",
       "      <td>http://www.businessdictionary.com/definition/m...</td>\n",
       "    </tr>\n",
       "    <tr>\n",
       "      <th>3</th>\n",
       "      <td>management</td>\n",
       "      <td>en-US</td>\n",
       "      <td>https://www.forbes.com/management/</td>\n",
       "    </tr>\n",
       "    <tr>\n",
       "      <th>4</th>\n",
       "      <td>management</td>\n",
       "      <td>en-US</td>\n",
       "      <td>https://www.thebalancecareers.com/management-4...</td>\n",
       "    </tr>\n",
       "  </tbody>\n",
       "</table>\n",
       "</div>"
      ],
      "text/plain": [
       "  search_term market                                                url\n",
       "0  management  en-US  https://www.merriam-webster.com/dictionary/man...\n",
       "1  management  en-US           https://en.wikipedia.org/wiki/Management\n",
       "2  management  en-US  http://www.businessdictionary.com/definition/m...\n",
       "3  management  en-US                 https://www.forbes.com/management/\n",
       "4  management  en-US  https://www.thebalancecareers.com/management-4..."
      ]
     },
     "execution_count": 6,
     "metadata": {},
     "output_type": "execute_result"
    }
   ],
   "source": [
    "valid_df = pd.read_csv('data/bing_search_results.csv')\n",
    "valid_df.head()"
   ]
  },
  {
   "cell_type": "code",
   "execution_count": 7,
   "metadata": {
    "ExecuteTime": {
     "end_time": "2018-05-06T19:46:12.371132Z",
     "start_time": "2018-05-06T19:46:11.271305Z"
    }
   },
   "outputs": [],
   "source": [
    "valid_df_counts = pd.DataFrame(list(valid_df.url.apply(project3utils.get_features_from_url)), dtype=np.float64)"
   ]
  },
  {
   "cell_type": "code",
   "execution_count": 8,
   "metadata": {
    "ExecuteTime": {
     "end_time": "2018-05-06T19:46:14.674594Z",
     "start_time": "2018-05-06T19:46:14.201662Z"
    }
   },
   "outputs": [
    {
     "data": {
      "text/plain": [
       "domain_total_chars       14.2380\n",
       "domain_consonants         7.9677\n",
       "domain_vowels             5.0772\n",
       "subdomain_total_chars     3.4524\n",
       "subdomain_consonants      2.8617\n",
       "subdomain_char_w          2.0205\n",
       "domain_char_o             1.6928\n",
       "domain_char_c             1.2835\n",
       "domain_char_dot           1.1143\n",
       "domain_char_e             1.0975\n",
       "domain_char_m             1.0071\n",
       "domain_char_i             1.0056\n",
       "domain_char_r             0.9708\n",
       "domain_char_a             0.9266\n",
       "domain_char_t             0.7519\n",
       "subdomain_is_www          0.6564\n",
       "https                     0.6421\n",
       "domain_char_n             0.5744\n",
       "subdomain_vowels          0.5422\n",
       "domain_char_s             0.4954\n",
       "domain_char_d             0.4501\n",
       "domain_char_u             0.3547\n",
       "domain_char_g             0.3145\n",
       "domain_char_l             0.3019\n",
       "domain_char_y             0.2980\n",
       "domain_char_w             0.2382\n",
       "domain_char_b             0.2348\n",
       "domain_char_h             0.2329\n",
       "domain_char_p             0.2077\n",
       "domain_char_f             0.2023\n",
       "                          ...   \n",
       "domain_char_q             0.0117\n",
       "subdomain_char_f          0.0109\n",
       "subdomain_char_k          0.0082\n",
       "subdomain_digits          0.0075\n",
       "subdomain_char_v          0.0060\n",
       "domain_char_1             0.0047\n",
       "subdomain_char_2          0.0040\n",
       "domain_char_3             0.0036\n",
       "domain_char_2             0.0035\n",
       "subdomain_char_j          0.0024\n",
       "subdomain_char_x          0.0022\n",
       "domain_char_4             0.0022\n",
       "domain_char_6             0.0017\n",
       "subdomain_char_z          0.0015\n",
       "domain_char_5             0.0014\n",
       "domain_char_8             0.0011\n",
       "domain_char_0             0.0009\n",
       "subdomain_char_3          0.0009\n",
       "subdomain_char_1          0.0008\n",
       "domain_char_7             0.0007\n",
       "domain_char_9             0.0006\n",
       "subdomain_char_0          0.0005\n",
       "subdomain_char_5          0.0004\n",
       "subdomain_char_4          0.0003\n",
       "subdomain_char_q          0.0003\n",
       "subdomain_char_9          0.0002\n",
       "subdomain_char_7          0.0002\n",
       "subdomain_char_6          0.0001\n",
       "subdomain_char_8          0.0001\n",
       "domain_is_raw_ip          0.0000\n",
       "Length: 87, dtype: float64"
      ]
     },
     "execution_count": 8,
     "metadata": {},
     "output_type": "execute_result"
    }
   ],
   "source": [
    "valid_df_counts.mean().sort_values(ascending=False)"
   ]
  },
  {
   "cell_type": "code",
   "execution_count": 9,
   "metadata": {
    "ExecuteTime": {
     "end_time": "2018-05-06T19:46:21.563534Z",
     "start_time": "2018-05-06T19:46:21.257851Z"
    }
   },
   "outputs": [
    {
     "data": {
      "text/plain": [
       "is_phishing              1.000000\n",
       "domain_digits            0.246363\n",
       "domain_char_0            0.232798\n",
       "domain_char_p            0.229802\n",
       "domain_char_l            0.196191\n",
       "domain_char_s            0.189819\n",
       "subdomain_digits         0.138797\n",
       "domain_consonants        0.138340\n",
       "domain_char_h            0.135577\n",
       "subdomain_char_b         0.130508\n",
       "domain_total_chars       0.129308\n",
       "subdomain_char_1         0.119655\n",
       "subdomain_char_s         0.119461\n",
       "subdomain_char_f         0.118427\n",
       "domain_char_b            0.114466\n",
       "subdomain_vowels         0.112652\n",
       "domain_char_hyphen       0.111730\n",
       "subdomain_char_r         0.109337\n",
       "subdomain_char_v         0.104426\n",
       "subdomain_char_0         0.103889\n",
       "subdomain_char_k         0.102632\n",
       "subdomain_char_2         0.101842\n",
       "domain_char_n            0.099988\n",
       "subdomain_char_e         0.097918\n",
       "domain_char_a            0.097262\n",
       "subdomain_char_3         0.097034\n",
       "subdomain_char_o         0.096505\n",
       "subdomain_char_8         0.095752\n",
       "domain_char_j            0.091402\n",
       "subdomain_char_5         0.087173\n",
       "                           ...   \n",
       "subdomain_char_x         0.043509\n",
       "subdomain_char_p         0.043413\n",
       "domain_char_z            0.041742\n",
       "domain_char_v            0.040675\n",
       "domain_char_5            0.040489\n",
       "domain_char_7            0.038478\n",
       "subdomain_char_q         0.034692\n",
       "domain_char_e            0.032784\n",
       "subdomain_char_d         0.026763\n",
       "domain_char_t            0.024970\n",
       "subdomain_total_chars    0.017399\n",
       "domain_char_u           -0.005555\n",
       "domain_vowels           -0.011398\n",
       "subdomain_char_y        -0.017759\n",
       "domain_char_dot         -0.019637\n",
       "domain_char_m           -0.029015\n",
       "subdomain_char_n        -0.033821\n",
       "domain_char_k           -0.037854\n",
       "domain_char_w           -0.043378\n",
       "domain_char_f           -0.049098\n",
       "domain_char_o           -0.059792\n",
       "domain_char_c           -0.066441\n",
       "domain_char_i           -0.093421\n",
       "domain_char_d           -0.096894\n",
       "domain_char_r           -0.107959\n",
       "subdomain_consonants    -0.120857\n",
       "domain_char_y           -0.143548\n",
       "subdomain_char_w        -0.474082\n",
       "https                   -0.477330\n",
       "subdomain_is_www        -0.478207\n",
       "Name: is_phishing, Length: 88, dtype: float64"
      ]
     },
     "execution_count": 9,
     "metadata": {},
     "output_type": "execute_result"
    }
   ],
   "source": [
    "df_counts['is_phishing'] = 1\n",
    "valid_df_counts['is_phishing'] = 0\n",
    "\n",
    "data = pd.concat([df_counts, valid_df_counts], ignore_index=True)\n",
    "data.corr()['is_phishing'].sort_values(ascending=False)"
   ]
  },
  {
   "cell_type": "markdown",
   "metadata": {},
   "source": [
    "# Modeling"
   ]
  },
  {
   "cell_type": "code",
   "execution_count": 10,
   "metadata": {
    "ExecuteTime": {
     "end_time": "2018-05-06T19:46:50.881739Z",
     "start_time": "2018-05-06T19:46:50.767357Z"
    }
   },
   "outputs": [],
   "source": [
    "from sklearn.tree import DecisionTreeClassifier\n",
    "from sklearn.svm import LinearSVC\n",
    "from sklearn.svm import SVC\n",
    "from sklearn.ensemble import RandomForestClassifier\n",
    "from sklearn.linear_model import LogisticRegression\n",
    "from sklearn.dummy import DummyClassifier\n",
    "from sklearn.model_selection import train_test_split\n",
    "from sklearn.metrics import f1_score"
   ]
  },
  {
   "cell_type": "code",
   "execution_count": 11,
   "metadata": {
    "ExecuteTime": {
     "end_time": "2018-05-06T19:46:52.162766Z",
     "start_time": "2018-05-06T19:46:52.157106Z"
    }
   },
   "outputs": [],
   "source": [
    "X = data.drop(['is_phishing','domain','subdomain','full_domain'], axis=1)\n",
    "y = data['is_phishing']"
   ]
  },
  {
   "cell_type": "code",
   "execution_count": 12,
   "metadata": {
    "ExecuteTime": {
     "end_time": "2018-05-06T19:46:53.908400Z",
     "start_time": "2018-05-06T19:46:53.767857Z"
    }
   },
   "outputs": [
    {
     "data": {
      "text/plain": [
       "(0.91039999999999999, 0.90857142857142859)"
      ]
     },
     "execution_count": 12,
     "metadata": {},
     "output_type": "execute_result"
    }
   ],
   "source": [
    "X_train, X_test, y_train, y_test = train_test_split(X, y, test_size=0.5, random_state=987)\n",
    "model = RandomForestClassifier(n_estimators=10, criterion='gini')\n",
    "model.fit(X_train, y_train)\n",
    "(model.score(X_test, y_test), f1_score(y_test, model.predict(X_test)))"
   ]
  },
  {
   "cell_type": "code",
   "execution_count": 13,
   "metadata": {
    "ExecuteTime": {
     "end_time": "2018-05-06T19:46:56.677075Z",
     "start_time": "2018-05-06T19:46:56.663648Z"
    }
   },
   "outputs": [],
   "source": [
    "def predict_for_url(url):\n",
    "    features_dict = project3utils.get_features_from_url(url)\n",
    "    features = [features_dict[c] for c in X.columns]\n",
    "    return model.predict_proba([features])"
   ]
  },
  {
   "cell_type": "code",
   "execution_count": 20,
   "metadata": {
    "ExecuteTime": {
     "end_time": "2018-05-06T19:48:35.617104Z",
     "start_time": "2018-05-06T19:48:35.594516Z"
    }
   },
   "outputs": [
    {
     "data": {
      "text/plain": [
       "array([[ 0.8,  0.2]])"
      ]
     },
     "execution_count": 20,
     "metadata": {},
     "output_type": "execute_result"
    }
   ],
   "source": [
    "predict_for_url('https://smile.amazon.co.uk/com')"
   ]
  },
  {
   "cell_type": "code",
   "execution_count": null,
   "metadata": {},
   "outputs": [],
   "source": []
  }
 ],
 "metadata": {
  "kernelspec": {
   "display_name": "Python [conda env:anaconda3]",
   "language": "python",
   "name": "conda-env-anaconda3-py"
  },
  "language_info": {
   "codemirror_mode": {
    "name": "ipython",
    "version": 3
   },
   "file_extension": ".py",
   "mimetype": "text/x-python",
   "name": "python",
   "nbconvert_exporter": "python",
   "pygments_lexer": "ipython3",
   "version": "3.6.3"
  },
  "toc": {
   "base_numbering": 1,
   "nav_menu": {},
   "number_sections": true,
   "sideBar": true,
   "skip_h1_title": false,
   "title_cell": "Table of Contents",
   "title_sidebar": "Contents",
   "toc_cell": false,
   "toc_position": {},
   "toc_section_display": true,
   "toc_window_display": false
  },
  "varInspector": {
   "cols": {
    "lenName": 16,
    "lenType": 16,
    "lenVar": 40
   },
   "kernels_config": {
    "python": {
     "delete_cmd_postfix": "",
     "delete_cmd_prefix": "del ",
     "library": "var_list.py",
     "varRefreshCmd": "print(var_dic_list())"
    },
    "r": {
     "delete_cmd_postfix": ") ",
     "delete_cmd_prefix": "rm(",
     "library": "var_list.r",
     "varRefreshCmd": "cat(var_dic_list()) "
    }
   },
   "types_to_exclude": [
    "module",
    "function",
    "builtin_function_or_method",
    "instance",
    "_Feature"
   ],
   "window_display": false
  }
 },
 "nbformat": 4,
 "nbformat_minor": 2
}
