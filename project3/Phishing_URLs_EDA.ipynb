{
 "cells": [
  {
   "cell_type": "markdown",
   "metadata": {},
   "source": [
    "# Setup"
   ]
  },
  {
   "cell_type": "code",
   "execution_count": 1,
   "metadata": {
    "ExecuteTime": {
     "end_time": "2018-05-10T23:25:16.796212Z",
     "start_time": "2018-05-10T23:25:15.284730Z"
    }
   },
   "outputs": [],
   "source": [
    "from collections import Counter, defaultdict\n",
    "from urllib.parse import urlparse\n",
    "\n",
    "import pandas as pd\n",
    "import numpy as np\n",
    "import seaborn as sns\n",
    "\n",
    "import matplotlib.pyplot as plt\n",
    "%matplotlib inline\n",
    "\n",
    "import project3utils\n",
    "import project3models\n",
    "import project3data\n",
    "from importlib import reload"
   ]
  },
  {
   "cell_type": "code",
   "execution_count": 3,
   "metadata": {
    "ExecuteTime": {
     "end_time": "2018-05-10T23:25:29.210788Z",
     "start_time": "2018-05-10T23:25:21.527468Z"
    }
   },
   "outputs": [],
   "source": [
    "# reload(project3data)\n",
    "data = project3data.get_training_data()"
   ]
  },
  {
   "cell_type": "code",
   "execution_count": 10,
   "metadata": {
    "ExecuteTime": {
     "end_time": "2018-05-10T23:26:35.002544Z",
     "start_time": "2018-05-10T23:26:33.945316Z"
    }
   },
   "outputs": [
    {
     "data": {
      "text/plain": [
       "is_phishing               1.000000\n",
       "subdomain_empty_string    0.459944\n",
       "path_entropy              0.456526\n",
       "path_ends_in_php          0.430043\n",
       "path_char_slash           0.418328\n",
       "path_char_p               0.382555\n",
       "path_char_dot             0.352761\n",
       "path_consonants           0.298143\n",
       "path_total_chars          0.292671\n",
       "path_char_c               0.288831\n",
       "domain_total_chars        0.282942\n",
       "path_char_o               0.265365\n",
       "domain_consonants         0.261201\n",
       "path_char_n               0.255265\n",
       "path_vowels               0.254571\n",
       "path_char_h               0.253617\n",
       "path_char_m               0.240843\n",
       "path_char_l               0.238332\n",
       "domain_char_0             0.233906\n",
       "path_char_d               0.232072\n",
       "path_char_x               0.220945\n",
       "path_char_e               0.215547\n",
       "domain_digits             0.209961\n",
       "path_char_f               0.206474\n",
       "path_char_g               0.201730\n",
       "domain_entropy            0.199805\n",
       "path_digits               0.195343\n",
       "path_char_b               0.178700\n",
       "path_char_7               0.177529\n",
       "domain_char_p             0.176919\n",
       "                            ...   \n",
       "subdomain_char_m         -0.049837\n",
       "subdomain_char_i         -0.049998\n",
       "subdomain_char_o         -0.054825\n",
       "subdomain_char_e         -0.062814\n",
       "subdomain_char_g         -0.079240\n",
       "subdomain_char_h         -0.083553\n",
       "subdomain_char_l         -0.085357\n",
       "subdomain_char_p         -0.085492\n",
       "subdomain_char_r         -0.087061\n",
       "subdomain_char_u         -0.090274\n",
       "domain_char_w            -0.091308\n",
       "subdomain_char_a         -0.091796\n",
       "subdomain_char_n         -0.093729\n",
       "subdomain_char_s         -0.095422\n",
       "path_char_colon          -0.095531\n",
       "subdomain_vowels         -0.096791\n",
       "subdomain_char_t         -0.105974\n",
       "path_char_hyphen         -0.122615\n",
       "subdomain_total_chars    -0.129447\n",
       "domain_char_k            -0.135923\n",
       "subdomain_is_www         -0.186286\n",
       "subdomain_entropy        -0.193840\n",
       "subdomain_char_w         -0.207054\n",
       "subdomain_consonants     -0.213569\n",
       "https                    -0.324674\n",
       "path_empty_string        -0.394935\n",
       "domain_char_at                 NaN\n",
       "domain_char_slash              NaN\n",
       "domain_char_underscore         NaN\n",
       "subdomain_char_slash           NaN\n",
       "Name: is_phishing, Length: 150, dtype: float64"
      ]
     },
     "execution_count": 10,
     "metadata": {},
     "output_type": "execute_result"
    }
   ],
   "source": [
    "corr = data.corr()\n",
    "# corr['sort_column'] = corr['is_phishing'].apply(abs)\n",
    "corr['is_phishing'].sort_values(ascending=False)"
   ]
  },
  {
   "cell_type": "code",
   "execution_count": 26,
   "metadata": {
    "ExecuteTime": {
     "end_time": "2018-05-10T23:48:45.714416Z",
     "start_time": "2018-05-10T23:48:45.605193Z"
    }
   },
   "outputs": [
    {
     "data": {
      "text/html": [
       "<div>\n",
       "<style>\n",
       "    .dataframe thead tr:only-child th {\n",
       "        text-align: right;\n",
       "    }\n",
       "\n",
       "    .dataframe thead th {\n",
       "        text-align: left;\n",
       "    }\n",
       "\n",
       "    .dataframe tbody tr th {\n",
       "        vertical-align: top;\n",
       "    }\n",
       "</style>\n",
       "<table border=\"1\" class=\"dataframe\">\n",
       "  <thead>\n",
       "    <tr style=\"text-align: right;\">\n",
       "      <th></th>\n",
       "      <th>path_empty_string</th>\n",
       "      <th>path_entropy</th>\n",
       "      <th>path_char_slash</th>\n",
       "      <th>path_ends_in_php</th>\n",
       "      <th>https</th>\n",
       "      <th>subdomain_total_chars</th>\n",
       "      <th>subdomain_empty_string</th>\n",
       "      <th>subdomain_entropy</th>\n",
       "      <th>domain_total_chars</th>\n",
       "    </tr>\n",
       "    <tr>\n",
       "      <th>is_phishing</th>\n",
       "      <th></th>\n",
       "      <th></th>\n",
       "      <th></th>\n",
       "      <th></th>\n",
       "      <th></th>\n",
       "      <th></th>\n",
       "      <th></th>\n",
       "      <th></th>\n",
       "      <th></th>\n",
       "    </tr>\n",
       "  </thead>\n",
       "  <tbody>\n",
       "    <tr>\n",
       "      <th>0</th>\n",
       "      <td>0.40934</td>\n",
       "      <td>1.325141</td>\n",
       "      <td>0.619835</td>\n",
       "      <td>0.012247</td>\n",
       "      <td>0.477248</td>\n",
       "      <td>5.058548</td>\n",
       "      <td>0.119785</td>\n",
       "      <td>0.844584</td>\n",
       "      <td>12.774071</td>\n",
       "    </tr>\n",
       "    <tr>\n",
       "      <th>1</th>\n",
       "      <td>0.07160</td>\n",
       "      <td>2.370844</td>\n",
       "      <td>2.075000</td>\n",
       "      <td>0.339400</td>\n",
       "      <td>0.173000</td>\n",
       "      <td>3.568800</td>\n",
       "      <td>0.554500</td>\n",
       "      <td>0.495165</td>\n",
       "      <td>15.571100</td>\n",
       "    </tr>\n",
       "  </tbody>\n",
       "</table>\n",
       "</div>"
      ],
      "text/plain": [
       "             path_empty_string  path_entropy  path_char_slash  \\\n",
       "is_phishing                                                     \n",
       "0                      0.40934      1.325141         0.619835   \n",
       "1                      0.07160      2.370844         2.075000   \n",
       "\n",
       "             path_ends_in_php     https  subdomain_total_chars  \\\n",
       "is_phishing                                                      \n",
       "0                    0.012247  0.477248               5.058548   \n",
       "1                    0.339400  0.173000               3.568800   \n",
       "\n",
       "             subdomain_empty_string  subdomain_entropy  domain_total_chars  \n",
       "is_phishing                                                                 \n",
       "0                          0.119785           0.844584           12.774071  \n",
       "1                          0.554500           0.495165           15.571100  "
      ]
     },
     "execution_count": 26,
     "metadata": {},
     "output_type": "execute_result"
    }
   ],
   "source": [
    "averages = data.groupby(['is_phishing']).mean()\n",
    "important_feature_columns = [\n",
    "    'path_empty_string','path_entropy','path_char_slash','path_ends_in_php',\n",
    "    'https','subdomain_total_chars','subdomain_empty_string','subdomain_entropy',\n",
    "    'domain_total_chars'\n",
    "]\n",
    "averages[important_feature_columns]"
   ]
  },
  {
   "cell_type": "markdown",
   "metadata": {},
   "source": [
    "# Modeling"
   ]
  },
  {
   "cell_type": "code",
   "execution_count": 4,
   "metadata": {
    "ExecuteTime": {
     "end_time": "2018-05-10T23:25:39.245661Z",
     "start_time": "2018-05-10T23:25:33.447167Z"
    }
   },
   "outputs": [
    {
     "name": "stdout",
     "output_type": "stream",
     "text": [
      "============= domain_model =============\n",
      "Accuracy: 0.91\n",
      "             precision    recall  f1-score   support\n",
      "\n",
      "          0       0.91      0.91      0.91      3033\n",
      "          1       0.91      0.90      0.91      2980\n",
      "\n",
      "avg / total       0.91      0.91      0.91      6013\n",
      "\n"
     ]
    },
    {
     "data": {
      "image/png": "[encoded data removed]",
      "text/plain": [
       "<matplotlib.figure.Figure at 0x7faadcb55cf8>"
      ]
     },
     "metadata": {},
     "output_type": "display_data"
    },
    {
     "name": "stdout",
     "output_type": "stream",
     "text": [
      "============= path_model =============\n",
      "Accuracy: 0.9\n",
      "             precision    recall  f1-score   support\n",
      "\n",
      "          0       0.89      0.85      0.87      1803\n",
      "          1       0.91      0.93      0.92      2786\n",
      "\n",
      "avg / total       0.90      0.90      0.90      4589\n",
      "\n"
     ]
    },
    {
     "data": {
      "image/png": "[encoded data removed]",
      "text/plain": [
       "<matplotlib.figure.Figure at 0x7faadb610ac8>"
      ]
     },
     "metadata": {},
     "output_type": "display_data"
    },
    {
     "name": "stdout",
     "output_type": "stream",
     "text": [
      "============= model =============\n",
      "Accuracy: 0.93\n",
      "             precision    recall  f1-score   support\n",
      "\n",
      "          0       0.92      0.95      0.93      3033\n",
      "          1       0.94      0.92      0.93      2980\n",
      "\n",
      "avg / total       0.93      0.93      0.93      6013\n",
      "\n"
     ]
    },
    {
     "data": {
      "image/png": "[encoded data removed]",
      "text/plain": [
       "<matplotlib.figure.Figure at 0x7faad6c0a400>"
      ]
     },
     "metadata": {},
     "output_type": "display_data"
    }
   ],
   "source": [
    "# reload(project3models)\n",
    "project3models.train_models(data)"
   ]
  },
  {
   "cell_type": "code",
   "execution_count": 5,
   "metadata": {
    "ExecuteTime": {
     "end_time": "2018-05-10T23:25:46.106561Z",
     "start_time": "2018-05-10T23:25:45.975090Z"
    }
   },
   "outputs": [
    {
     "data": {
      "text/plain": [
       "{'domain_model': RandomForestClassifier(bootstrap=True, class_weight=None, criterion='gini',\n",
       "             max_depth=None, max_features='auto', max_leaf_nodes=None,\n",
       "             min_impurity_decrease=0.0, min_impurity_split=None,\n",
       "             min_samples_leaf=1, min_samples_split=2,\n",
       "             min_weight_fraction_leaf=0.0, n_estimators=32, n_jobs=1,\n",
       "             oob_score=False, random_state=None, verbose=0,\n",
       "             warm_start=False),\n",
       " 'model': RandomForestClassifier(bootstrap=True, class_weight=None, criterion='gini',\n",
       "             max_depth=None, max_features='auto', max_leaf_nodes=None,\n",
       "             min_impurity_decrease=0.0, min_impurity_split=None,\n",
       "             min_samples_leaf=1, min_samples_split=2,\n",
       "             min_weight_fraction_leaf=0.0, n_estimators=32, n_jobs=1,\n",
       "             oob_score=False, random_state=None, verbose=0,\n",
       "             warm_start=False),\n",
       " 'path_model': RandomForestClassifier(bootstrap=True, class_weight=None, criterion='gini',\n",
       "             max_depth=None, max_features='auto', max_leaf_nodes=None,\n",
       "             min_impurity_decrease=0.0, min_impurity_split=None,\n",
       "             min_samples_leaf=1, min_samples_split=2,\n",
       "             min_weight_fraction_leaf=0.0, n_estimators=32, n_jobs=1,\n",
       "             oob_score=False, random_state=None, verbose=0,\n",
       "             warm_start=False)}"
      ]
     },
     "execution_count": 5,
     "metadata": {},
     "output_type": "execute_result"
    }
   ],
   "source": [
    "models = project3models.get_models()\n",
    "models"
   ]
  },
  {
   "cell_type": "code",
   "execution_count": 6,
   "metadata": {
    "ExecuteTime": {
     "end_time": "2018-05-10T23:25:50.314759Z",
     "start_time": "2018-05-10T23:25:50.311027Z"
    }
   },
   "outputs": [],
   "source": [
    "model = models['model']"
   ]
  },
  {
   "cell_type": "code",
   "execution_count": 11,
   "metadata": {
    "ExecuteTime": {
     "end_time": "2018-05-10T23:31:39.414218Z",
     "start_time": "2018-05-10T23:31:39.391972Z"
    }
   },
   "outputs": [],
   "source": [
    "def top_n_features(model, columns, n):\n",
    "    return sorted(list(zip(columns, model.feature_importances_)), reverse=True, key=lambda f: f[1])[0:n]"
   ]
  },
  {
   "cell_type": "code",
   "execution_count": 12,
   "metadata": {
    "ExecuteTime": {
     "end_time": "2018-05-10T23:32:13.737781Z",
     "start_time": "2018-05-10T23:32:13.705785Z"
    }
   },
   "outputs": [
    {
     "data": {
      "text/plain": [
       "[('subdomain_empty_string', 0.062861738685588642),\n",
       " ('subdomain_total_chars', 0.054574938377944006),\n",
       " ('path_char_slash', 0.042573960812207906),\n",
       " ('path_ends_in_php', 0.042338487688704428),\n",
       " ('subdomain_consonants', 0.038056487870551263),\n",
       " ('domain_entropy', 0.032674461179269108),\n",
       " ('path_char_dot', 0.026706752010536385),\n",
       " ('path_char_hyphen', 0.02551896338837845),\n",
       " ('domain_consonants', 0.022412265876197785),\n",
       " ('domain_total_chars', 0.022364134441725792),\n",
       " ('path_entropy', 0.022175898539532914),\n",
       " ('path_char_n', 0.019908264885601986),\n",
       " ('path_total_chars', 0.019199112723141325),\n",
       " ('domain_digits', 0.018311140465204236),\n",
       " ('https', 0.016705437255987585),\n",
       " ('path_consonants', 0.016344276597241889),\n",
       " ('domain_char_0', 0.015419803189408898),\n",
       " ('path_char_p', 0.015125859893113795),\n",
       " ('path_empty_string', 0.014955830007856189),\n",
       " ('path_char_d', 0.014124514432737736),\n",
       " ('subdomain_entropy', 0.014029408900853992),\n",
       " ('path_vowels', 0.013925285004046044),\n",
       " ('path_digits', 0.013576717055654133),\n",
       " ('path_char_h', 0.013569624496984093),\n",
       " ('domain_char_p', 0.01315977929571157),\n",
       " ('domain_char_o', 0.012358787539378305),\n",
       " ('path_char_i', 0.012253115507882667),\n",
       " ('domain_vowels', 0.010778868769490475),\n",
       " ('path_char_l', 0.01074188617403179),\n",
       " ('path_char_m', 0.010549017314344624)]"
      ]
     },
     "execution_count": 12,
     "metadata": {},
     "output_type": "execute_result"
    }
   ],
   "source": [
    "top_n_features(models['model'], project3utils.numeric_feature_columns, 30)"
   ]
  },
  {
   "cell_type": "code",
   "execution_count": 13,
   "metadata": {
    "ExecuteTime": {
     "end_time": "2018-05-10T23:33:01.250686Z",
     "start_time": "2018-05-10T23:33:01.208165Z"
    }
   },
   "outputs": [
    {
     "data": {
      "text/plain": [
       "[('subdomain_total_chars', 0.076491641695488874),\n",
       " ('subdomain_empty_string', 0.076115848073848885),\n",
       " ('domain_entropy', 0.06246035542684613),\n",
       " ('domain_consonants', 0.045239223473555829),\n",
       " ('domain_total_chars', 0.044764290995093256),\n",
       " ('https', 0.034665889641573161),\n",
       " ('domain_vowels', 0.032502684115317468),\n",
       " ('domain_char_o', 0.030051429781188025),\n",
       " ('subdomain_entropy', 0.026885556412130522),\n",
       " ('domain_char_p', 0.026829028521953957),\n",
       " ('domain_char_e', 0.024578616199725397),\n",
       " ('subdomain_consonants', 0.024016145462934891),\n",
       " ('domain_char_n', 0.021726275317731102),\n",
       " ('domain_char_a', 0.020914041560796164),\n",
       " ('domain_char_g', 0.020060380371367859),\n",
       " ('domain_digits', 0.019751134184161859),\n",
       " ('domain_char_c', 0.019480720316531988),\n",
       " ('domain_char_s', 0.01893530116841367),\n",
       " ('domain_char_i', 0.018818807730085183),\n",
       " ('domain_char_r', 0.018235874117967343),\n",
       " ('domain_char_t', 0.017414576474623064),\n",
       " ('subdomain_vowels', 0.017163636266837232),\n",
       " ('domain_char_l', 0.016865388469793696),\n",
       " ('subdomain_char_w', 0.016409623532832391),\n",
       " ('domain_char_m', 0.016268824135805233),\n",
       " ('domain_char_hyphen', 0.014538467027237052),\n",
       " ('domain_char_h', 0.013045588130035852),\n",
       " ('domain_char_0', 0.012982641121503269),\n",
       " ('domain_char_u', 0.012731054408163321),\n",
       " ('domain_char_w', 0.012537037554097451)]"
      ]
     },
     "execution_count": 13,
     "metadata": {},
     "output_type": "execute_result"
    }
   ],
   "source": [
    "top_n_features(models['domain_model'], project3utils.nonpath_feature_columns, 30)"
   ]
  },
  {
   "cell_type": "code",
   "execution_count": 14,
   "metadata": {
    "ExecuteTime": {
     "end_time": "2018-05-10T23:33:25.792753Z",
     "start_time": "2018-05-10T23:33:25.736028Z"
    }
   },
   "outputs": [
    {
     "data": {
      "text/plain": [
       "[('path_char_hyphen', 0.079353681331866877),\n",
       " ('path_char_slash', 0.076555695982372191),\n",
       " ('path_ends_in_php', 0.060231022336094481),\n",
       " ('path_entropy', 0.054025826248680825),\n",
       " ('path_consonants', 0.047825862858248205),\n",
       " ('path_total_chars', 0.044236244560895754),\n",
       " ('path_char_k', 0.035861388174513585),\n",
       " ('path_char_i', 0.035184442423745112),\n",
       " ('path_char_p', 0.034564303525987328),\n",
       " ('path_char_dot', 0.033872247230338361),\n",
       " ('path_vowels', 0.032391939622719884),\n",
       " ('path_char_s', 0.029409666955800693),\n",
       " ('path_digits', 0.027661480467948224),\n",
       " ('path_char_w', 0.02488022276197744),\n",
       " ('path_char_e', 0.023002786409104463),\n",
       " ('path_char_r', 0.022673145713345458),\n",
       " ('path_char_d', 0.021709646629753509),\n",
       " ('path_char_c', 0.021561734093126849),\n",
       " ('path_char_m', 0.021472115077108597),\n",
       " ('path_char_t', 0.020268376877004713),\n",
       " ('path_char_o', 0.020258606122676014),\n",
       " ('path_char_a', 0.020252588230724212),\n",
       " ('path_char_n', 0.019592450145251187),\n",
       " ('path_char_h', 0.019572068899721361),\n",
       " ('path_char_l', 0.015005392087983687),\n",
       " ('path_char_f', 0.013325067200114098),\n",
       " ('path_char_b', 0.013078909396589893),\n",
       " ('path_char_g', 0.012903621629982397),\n",
       " ('path_char_u', 0.012524486565528983),\n",
       " ('path_char_y', 0.010171793224046311)]"
      ]
     },
     "execution_count": 14,
     "metadata": {},
     "output_type": "execute_result"
    }
   ],
   "source": [
    "top_n_features(models['path_model'], project3utils.path_feature_columns, 30)"
   ]
  },
  {
   "cell_type": "code",
   "execution_count": null,
   "metadata": {},
   "outputs": [],
   "source": []
  }
 ],
 "metadata": {
  "kernelspec": {
   "display_name": "Python [conda env:anaconda3]",
   "language": "python",
   "name": "conda-env-anaconda3-py"
  },
  "language_info": {
   "codemirror_mode": {
    "name": "ipython",
    "version": 3
   },
   "file_extension": ".py",
   "mimetype": "text/x-python",
   "name": "python",
   "nbconvert_exporter": "python",
   "pygments_lexer": "ipython3",
   "version": "3.6.3"
  },
  "toc": {
   "base_numbering": 1,
   "nav_menu": {},
   "number_sections": true,
   "sideBar": true,
   "skip_h1_title": false,
   "title_cell": "Table of Contents",
   "title_sidebar": "Contents",
   "toc_cell": false,
   "toc_position": {},
   "toc_section_display": true,
   "toc_window_display": false
  },
  "varInspector": {
   "cols": {
    "lenName": 16,
    "lenType": 16,
    "lenVar": 40
   },
   "kernels_config": {
    "python": {
     "delete_cmd_postfix": "",
     "delete_cmd_prefix": "del ",
     "library": "var_list.py",
     "varRefreshCmd": "print(var_dic_list())"
    },
    "r": {
     "delete_cmd_postfix": ") ",
     "delete_cmd_prefix": "rm(",
     "library": "var_list.r",
     "varRefreshCmd": "cat(var_dic_list()) "
    }
   },
   "types_to_exclude": [
    "module",
    "function",
    "builtin_function_or_method",
    "instance",
    "_Feature"
   ],
   "window_display": false
  }
 },
 "nbformat": 4,
 "nbformat_minor": 2
}
