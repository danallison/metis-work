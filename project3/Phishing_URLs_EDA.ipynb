{
 "cells": [
  {
   "cell_type": "markdown",
   "metadata": {},
   "source": [
    "# Setup"
   ]
  },
  {
   "cell_type": "code",
   "execution_count": 1,
   "metadata": {
    "ExecuteTime": {
     "end_time": "2018-05-07T03:51:19.179901Z",
     "start_time": "2018-05-07T03:51:18.318842Z"
    }
   },
   "outputs": [],
   "source": [
    "from collections import Counter, defaultdict\n",
    "from urllib.parse import urlparse\n",
    "\n",
    "import pandas as pd\n",
    "import numpy as np\n",
    "import seaborn as sns\n",
    "\n",
    "import matplotlib.pyplot as plt\n",
    "%matplotlib inline\n",
    "\n",
    "import project3utils"
   ]
  },
  {
   "cell_type": "code",
   "execution_count": 2,
   "metadata": {
    "ExecuteTime": {
     "end_time": "2018-05-07T03:51:19.322883Z",
     "start_time": "2018-05-07T03:51:19.181172Z"
    }
   },
   "outputs": [],
   "source": [
    "df = pd.read_csv('data/phishtank2018-05-02_verified_online.csv')"
   ]
  },
  {
   "cell_type": "code",
   "execution_count": 3,
   "metadata": {
    "ExecuteTime": {
     "end_time": "2018-05-07T03:51:19.345845Z",
     "start_time": "2018-05-07T03:51:19.324073Z"
    }
   },
   "outputs": [
    {
     "name": "stdout",
     "output_type": "stream",
     "text": [
      "<class 'pandas.core.frame.DataFrame'>\n",
      "RangeIndex: 32660 entries, 0 to 32659\n",
      "Data columns (total 8 columns):\n",
      "phish_id             32660 non-null int64\n",
      "url                  32660 non-null object\n",
      "phish_detail_url     32660 non-null object\n",
      "submission_time      32660 non-null object\n",
      "verified             32660 non-null object\n",
      "verification_time    32660 non-null object\n",
      "online               32660 non-null object\n",
      "target               32660 non-null object\n",
      "dtypes: int64(1), object(7)\n",
      "memory usage: 2.0+ MB\n"
     ]
    }
   ],
   "source": [
    "df.info()"
   ]
  },
  {
   "cell_type": "code",
   "execution_count": 4,
   "metadata": {
    "ExecuteTime": {
     "end_time": "2018-05-07T03:51:21.998902Z",
     "start_time": "2018-05-07T03:51:19.347455Z"
    }
   },
   "outputs": [],
   "source": [
    "df_counts = pd.DataFrame(list(df.head(10000).url.apply(project3utils.get_features_from_url)), dtype=np.float64)"
   ]
  },
  {
   "cell_type": "code",
   "execution_count": 5,
   "metadata": {
    "ExecuteTime": {
     "end_time": "2018-05-07T03:51:22.980557Z",
     "start_time": "2018-05-07T03:51:22.000348Z"
    }
   },
   "outputs": [
    {
     "data": {
      "text/plain": [
       "path_total_chars             31.182200\n",
       "domain_total_chars           15.499500\n",
       "path_consonants              15.438500\n",
       "domain_consonants             8.812400\n",
       "path_vowels                   7.630500\n",
       "domain_vowels                 5.028300\n",
       "path_digits                   4.675100\n",
       "subdomain_total_chars         3.630500\n",
       "path_entropy                  2.370844\n",
       "domain_entropy                2.291810\n",
       "path_char_e                   2.201500\n",
       "subdomain_consonants          2.184000\n",
       "path_char_slash               2.075000\n",
       "path_char_i                   1.648300\n",
       "path_char_a                   1.635800\n",
       "domain_char_o                 1.577600\n",
       "path_char_o                   1.543200\n",
       "path_char_n                   1.501000\n",
       "path_char_c                   1.410200\n",
       "path_char_p                   1.399100\n",
       "path_char_d                   1.280500\n",
       "domain_char_c                 1.172800\n",
       "domain_char_e                 1.169900\n",
       "path_char_t                   1.159500\n",
       "domain_char_a                 1.110700\n",
       "domain_char_dot               1.102100\n",
       "path_char_s                   1.095600\n",
       "path_char_l                   1.090100\n",
       "domain_char_m                 0.964100\n",
       "subdomain_vowels              0.950800\n",
       "                               ...    \n",
       "subdomain_char_3              0.036500\n",
       "subdomain_char_6              0.035200\n",
       "subdomain_char_4              0.031500\n",
       "subdomain_char_8              0.030300\n",
       "subdomain_char_7              0.028500\n",
       "subdomain_char_5              0.028400\n",
       "domain_char_q                 0.027000\n",
       "domain_char_1                 0.026300\n",
       "subdomain_char_9              0.024800\n",
       "domain_char_2                 0.019700\n",
       "subdomain_char_j              0.018700\n",
       "domain_char_4                 0.014900\n",
       "subdomain_char_x              0.014500\n",
       "domain_char_3                 0.014300\n",
       "domain_char_6                 0.010200\n",
       "domain_is_raw_ip              0.009900\n",
       "subdomain_char_z              0.009200\n",
       "domain_char_8                 0.008700\n",
       "domain_char_9                 0.007700\n",
       "domain_char_5                 0.007000\n",
       "domain_char_7                 0.005500\n",
       "subdomain_char_q              0.003200\n",
       "domain_char_colon             0.001200\n",
       "path_char_colon               0.001200\n",
       "subdomain_char_underscore     0.000200\n",
       "subdomain_char_colon          0.000100\n",
       "domain_char_slash             0.000000\n",
       "domain_char_underscore        0.000000\n",
       "subdomain_char_slash          0.000000\n",
       "domain_empty_string           0.000000\n",
       "Length: 145, dtype: float64"
      ]
     },
     "execution_count": 5,
     "metadata": {},
     "output_type": "execute_result"
    }
   ],
   "source": [
    "df_counts.mean().sort_values(ascending=False)"
   ]
  },
  {
   "cell_type": "code",
   "execution_count": 6,
   "metadata": {
    "ExecuteTime": {
     "end_time": "2018-05-07T03:51:23.003695Z",
     "start_time": "2018-05-07T03:51:22.982528Z"
    }
   },
   "outputs": [
    {
     "data": {
      "text/html": [
       "<div>\n",
       "<style>\n",
       "    .dataframe thead tr:only-child th {\n",
       "        text-align: right;\n",
       "    }\n",
       "\n",
       "    .dataframe thead th {\n",
       "        text-align: left;\n",
       "    }\n",
       "\n",
       "    .dataframe tbody tr th {\n",
       "        vertical-align: top;\n",
       "    }\n",
       "</style>\n",
       "<table border=\"1\" class=\"dataframe\">\n",
       "  <thead>\n",
       "    <tr style=\"text-align: right;\">\n",
       "      <th></th>\n",
       "      <th>search_term</th>\n",
       "      <th>market</th>\n",
       "      <th>url</th>\n",
       "    </tr>\n",
       "  </thead>\n",
       "  <tbody>\n",
       "    <tr>\n",
       "      <th>0</th>\n",
       "      <td>management</td>\n",
       "      <td>en-US</td>\n",
       "      <td>https://www.merriam-webster.com/dictionary/man...</td>\n",
       "    </tr>\n",
       "    <tr>\n",
       "      <th>1</th>\n",
       "      <td>management</td>\n",
       "      <td>en-US</td>\n",
       "      <td>https://en.wikipedia.org/wiki/Management</td>\n",
       "    </tr>\n",
       "    <tr>\n",
       "      <th>2</th>\n",
       "      <td>management</td>\n",
       "      <td>en-US</td>\n",
       "      <td>http://www.businessdictionary.com/definition/m...</td>\n",
       "    </tr>\n",
       "    <tr>\n",
       "      <th>3</th>\n",
       "      <td>management</td>\n",
       "      <td>en-US</td>\n",
       "      <td>https://www.forbes.com/management/</td>\n",
       "    </tr>\n",
       "    <tr>\n",
       "      <th>4</th>\n",
       "      <td>management</td>\n",
       "      <td>en-US</td>\n",
       "      <td>https://www.thebalancecareers.com/management-4...</td>\n",
       "    </tr>\n",
       "  </tbody>\n",
       "</table>\n",
       "</div>"
      ],
      "text/plain": [
       "  search_term market                                                url\n",
       "0  management  en-US  https://www.merriam-webster.com/dictionary/man...\n",
       "1  management  en-US           https://en.wikipedia.org/wiki/Management\n",
       "2  management  en-US  http://www.businessdictionary.com/definition/m...\n",
       "3  management  en-US                 https://www.forbes.com/management/\n",
       "4  management  en-US  https://www.thebalancecareers.com/management-4..."
      ]
     },
     "execution_count": 6,
     "metadata": {},
     "output_type": "execute_result"
    }
   ],
   "source": [
    "valid_df = pd.read_csv('data/bing_search_results.csv')\n",
    "valid_df.head()"
   ]
  },
  {
   "cell_type": "code",
   "execution_count": 7,
   "metadata": {
    "ExecuteTime": {
     "end_time": "2018-05-07T03:51:25.661445Z",
     "start_time": "2018-05-07T03:51:23.005086Z"
    }
   },
   "outputs": [],
   "source": [
    "valid_df_counts = pd.DataFrame(list(valid_df.url.apply(project3utils.get_features_from_url)), dtype=np.float64)"
   ]
  },
  {
   "cell_type": "code",
   "execution_count": 8,
   "metadata": {
    "ExecuteTime": {
     "end_time": "2018-05-07T03:51:26.564131Z",
     "start_time": "2018-05-07T03:51:25.666425Z"
    }
   },
   "outputs": [
    {
     "data": {
      "text/plain": [
       "path_total_chars             17.755000\n",
       "domain_total_chars           14.238000\n",
       "path_consonants               9.506100\n",
       "domain_consonants             7.967700\n",
       "path_vowels                   5.500600\n",
       "domain_vowels                 5.077200\n",
       "subdomain_total_chars         3.452400\n",
       "subdomain_consonants          2.861700\n",
       "domain_entropy                2.252793\n",
       "subdomain_char_w              2.020500\n",
       "path_entropy                  1.939410\n",
       "domain_char_o                 1.692800\n",
       "path_char_e                   1.584900\n",
       "path_char_i                   1.319000\n",
       "domain_char_c                 1.283500\n",
       "path_char_t                   1.235300\n",
       "path_char_a                   1.130400\n",
       "domain_char_dot               1.114300\n",
       "domain_char_e                 1.097500\n",
       "path_char_s                   1.045200\n",
       "path_char_o                   1.028100\n",
       "path_char_r                   1.011800\n",
       "domain_char_m                 1.007100\n",
       "domain_char_i                 1.005600\n",
       "path_char_n                   0.978400\n",
       "domain_char_r                 0.970800\n",
       "domain_char_a                 0.926600\n",
       "path_digits                   0.885500\n",
       "path_char_slash               0.873300\n",
       "domain_char_t                 0.751900\n",
       "                               ...    \n",
       "domain_char_2                 0.003500\n",
       "subdomain_char_j              0.002400\n",
       "subdomain_char_x              0.002200\n",
       "domain_char_4                 0.002200\n",
       "domain_char_6                 0.001700\n",
       "subdomain_char_z              0.001500\n",
       "domain_char_5                 0.001400\n",
       "domain_char_8                 0.001100\n",
       "path_char_colon               0.001100\n",
       "domain_char_0                 0.000900\n",
       "subdomain_char_3              0.000900\n",
       "subdomain_char_1              0.000800\n",
       "domain_char_7                 0.000700\n",
       "domain_char_9                 0.000600\n",
       "subdomain_char_0              0.000500\n",
       "subdomain_char_5              0.000400\n",
       "subdomain_char_q              0.000300\n",
       "subdomain_char_4              0.000300\n",
       "subdomain_char_9              0.000200\n",
       "subdomain_char_7              0.000200\n",
       "subdomain_char_6              0.000100\n",
       "subdomain_char_8              0.000100\n",
       "domain_char_underscore        0.000000\n",
       "subdomain_char_colon          0.000000\n",
       "domain_char_slash             0.000000\n",
       "domain_char_colon             0.000000\n",
       "subdomain_char_underscore     0.000000\n",
       "subdomain_char_slash          0.000000\n",
       "domain_empty_string           0.000000\n",
       "domain_is_raw_ip              0.000000\n",
       "Length: 145, dtype: float64"
      ]
     },
     "execution_count": 8,
     "metadata": {},
     "output_type": "execute_result"
    }
   ],
   "source": [
    "valid_df_counts.mean().sort_values(ascending=False)"
   ]
  },
  {
   "cell_type": "code",
   "execution_count": 9,
   "metadata": {
    "ExecuteTime": {
     "end_time": "2018-05-07T03:51:27.477286Z",
     "start_time": "2018-05-07T03:51:26.566159Z"
    }
   },
   "outputs": [
    {
     "data": {
      "text/plain": [
       "is_phishing               1.000000\n",
       "subdomain_empty_string    0.457133\n",
       "path_char_p               0.365491\n",
       "path_char_slash           0.359659\n",
       "path_char_dot             0.354019\n",
       "path_total_chars          0.269768\n",
       "path_digits               0.255262\n",
       "domain_digits             0.246363\n",
       "path_entropy              0.236865\n",
       "path_char_c               0.235424\n",
       "domain_char_0             0.232798\n",
       "path_char_d               0.232536\n",
       "path_consonants           0.230433\n",
       "domain_char_p             0.229802\n",
       "path_char_b               0.224619\n",
       "path_char_7               0.216139\n",
       "path_char_x               0.216090\n",
       "path_char_1               0.208978\n",
       "path_char_0               0.202616\n",
       "path_char_f               0.201525\n",
       "path_char_4               0.201338\n",
       "domain_char_l             0.196191\n",
       "path_char_3               0.191680\n",
       "path_char_m               0.190423\n",
       "domain_char_s             0.189819\n",
       "path_char_8               0.185932\n",
       "path_char_h               0.185613\n",
       "path_char_5               0.182268\n",
       "path_char_6               0.179467\n",
       "path_char_2               0.176521\n",
       "                            ...   \n",
       "path_char_colon           0.001231\n",
       "domain_char_u            -0.005555\n",
       "domain_vowels            -0.011398\n",
       "subdomain_char_y         -0.017759\n",
       "domain_char_dot          -0.019637\n",
       "path_char_t              -0.024929\n",
       "path_char_y              -0.027130\n",
       "domain_char_m            -0.029015\n",
       "subdomain_char_n         -0.033821\n",
       "domain_char_k            -0.037854\n",
       "domain_char_w            -0.043378\n",
       "domain_char_f            -0.049098\n",
       "domain_char_o            -0.059792\n",
       "path_char_r              -0.064805\n",
       "domain_char_c            -0.066441\n",
       "domain_char_i            -0.093421\n",
       "domain_char_d            -0.096894\n",
       "domain_is_dot_com        -0.104232\n",
       "domain_char_r            -0.107959\n",
       "subdomain_consonants     -0.120857\n",
       "path_char_hyphen         -0.129827\n",
       "domain_char_y            -0.143548\n",
       "path_empty_string        -0.154119\n",
       "subdomain_char_w         -0.474082\n",
       "https                    -0.477330\n",
       "subdomain_is_www         -0.478207\n",
       "domain_char_slash              NaN\n",
       "domain_char_underscore         NaN\n",
       "domain_empty_string            NaN\n",
       "subdomain_char_slash           NaN\n",
       "Name: is_phishing, Length: 146, dtype: float64"
      ]
     },
     "execution_count": 9,
     "metadata": {},
     "output_type": "execute_result"
    }
   ],
   "source": [
    "df_counts['is_phishing'] = 1\n",
    "valid_df_counts['is_phishing'] = 0\n",
    "\n",
    "data = pd.concat([df_counts, valid_df_counts], ignore_index=True)\n",
    "data.corr()['is_phishing'].sort_values(ascending=False)"
   ]
  },
  {
   "cell_type": "markdown",
   "metadata": {},
   "source": [
    "# Modeling"
   ]
  },
  {
   "cell_type": "code",
   "execution_count": 10,
   "metadata": {
    "ExecuteTime": {
     "end_time": "2018-05-07T03:51:27.679241Z",
     "start_time": "2018-05-07T03:51:27.478994Z"
    }
   },
   "outputs": [],
   "source": [
    "from sklearn.tree import DecisionTreeClassifier\n",
    "from sklearn.svm import LinearSVC\n",
    "from sklearn.svm import SVC\n",
    "from sklearn.ensemble import RandomForestClassifier\n",
    "from sklearn.linear_model import LogisticRegression\n",
    "from sklearn.dummy import DummyClassifier\n",
    "from sklearn.model_selection import train_test_split\n",
    "from sklearn.metrics import f1_score\n",
    "from sklearn.externals import joblib"
   ]
  },
  {
   "cell_type": "code",
   "execution_count": null,
   "metadata": {
    "ExecuteTime": {
     "end_time": "2018-05-07T02:14:01.948851Z",
     "start_time": "2018-05-07T02:14:01.931917Z"
    }
   },
   "outputs": [],
   "source": []
  },
  {
   "cell_type": "code",
   "execution_count": 11,
   "metadata": {
    "ExecuteTime": {
     "end_time": "2018-05-07T03:51:30.257389Z",
     "start_time": "2018-05-07T03:51:27.685560Z"
    }
   },
   "outputs": [
    {
     "name": "stdout",
     "output_type": "stream",
     "text": [
      "0.937 0.936831550802\n",
      "0.9065 0.901561677487\n"
     ]
    }
   ],
   "source": [
    "models = []\n",
    "for feature_columns in [project3utils.nonpath_feature_columns, project3utils.path_feature_columns]:\n",
    "    X = data[feature_columns]\n",
    "    y = data['is_phishing']\n",
    "    X_train, X_test, y_train, y_test = train_test_split(X, y, test_size=0.3, random_state=987)\n",
    "    # model = DummyClassifier()\n",
    "    # model = LogisticRegression()\n",
    "    # model = LinearSVC()\n",
    "    # model = SVC()\n",
    "    # model = DecisionTreeClassifier()\n",
    "    model = RandomForestClassifier(n_estimators=80, criterion='gini')\n",
    "    model.fit(X_train, y_train)\n",
    "    print(model.score(X_test, y_test), f1_score(y_test, model.predict(X_test)))\n",
    "    models.append(model)\n"
   ]
  },
  {
   "cell_type": "code",
   "execution_count": 12,
   "metadata": {
    "ExecuteTime": {
     "end_time": "2018-05-07T03:51:30.263619Z",
     "start_time": "2018-05-07T03:51:30.258630Z"
    }
   },
   "outputs": [],
   "source": [
    "def predict_for_url(url):\n",
    "    features = project3utils.get_features_from_url(url)\n",
    "    nonpath_features = [features[c] for c in project3utils.nonpath_feature_columns]\n",
    "    path_features = [features[c] for c in project3utils.path_feature_columns]\n",
    "    return {\n",
    "        'domain': models[0].predict_proba([nonpath_features]),\n",
    "        'path': models[1].predict_proba([path_features])\n",
    "    }"
   ]
  },
  {
   "cell_type": "code",
   "execution_count": 13,
   "metadata": {
    "ExecuteTime": {
     "end_time": "2018-05-07T03:51:30.279623Z",
     "start_time": "2018-05-07T03:51:30.265028Z"
    }
   },
   "outputs": [
    {
     "data": {
      "text/plain": [
       "{'domain': array([[ 0.8875,  0.1125]]), 'path': array([[ 0.0375,  0.9625]])}"
      ]
     },
     "execution_count": 13,
     "metadata": {},
     "output_type": "execute_result"
    }
   ],
   "source": [
    "predict_for_url('https://www.similarweb.com/a')"
   ]
  },
  {
   "cell_type": "code",
   "execution_count": 14,
   "metadata": {
    "ExecuteTime": {
     "end_time": "2018-05-07T03:51:30.719868Z",
     "start_time": "2018-05-07T03:51:30.281084Z"
    }
   },
   "outputs": [
    {
     "data": {
      "text/plain": [
       "['path_model.pkl']"
      ]
     },
     "execution_count": 14,
     "metadata": {},
     "output_type": "execute_result"
    }
   ],
   "source": [
    "joblib.dump(models[0], 'domain_model.pkl')\n",
    "joblib.dump(models[1], 'path_model.pkl')"
   ]
  },
  {
   "cell_type": "code",
   "execution_count": null,
   "metadata": {},
   "outputs": [],
   "source": []
  }
 ],
 "metadata": {
  "kernelspec": {
   "display_name": "Python [conda env:anaconda3]",
   "language": "python",
   "name": "conda-env-anaconda3-py"
  },
  "language_info": {
   "codemirror_mode": {
    "name": "ipython",
    "version": 3
   },
   "file_extension": ".py",
   "mimetype": "text/x-python",
   "name": "python",
   "nbconvert_exporter": "python",
   "pygments_lexer": "ipython3",
   "version": "3.6.3"
  },
  "toc": {
   "base_numbering": 1,
   "nav_menu": {},
   "number_sections": true,
   "sideBar": true,
   "skip_h1_title": false,
   "title_cell": "Table of Contents",
   "title_sidebar": "Contents",
   "toc_cell": false,
   "toc_position": {},
   "toc_section_display": true,
   "toc_window_display": false
  },
  "varInspector": {
   "cols": {
    "lenName": 16,
    "lenType": 16,
    "lenVar": 40
   },
   "kernels_config": {
    "python": {
     "delete_cmd_postfix": "",
     "delete_cmd_prefix": "del ",
     "library": "var_list.py",
     "varRefreshCmd": "print(var_dic_list())"
    },
    "r": {
     "delete_cmd_postfix": ") ",
     "delete_cmd_prefix": "rm(",
     "library": "var_list.r",
     "varRefreshCmd": "cat(var_dic_list()) "
    }
   },
   "types_to_exclude": [
    "module",
    "function",
    "builtin_function_or_method",
    "instance",
    "_Feature"
   ],
   "window_display": false
  }
 },
 "nbformat": 4,
 "nbformat_minor": 2
}
