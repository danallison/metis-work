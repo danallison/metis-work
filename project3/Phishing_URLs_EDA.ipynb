{
 "cells": [
  {
   "cell_type": "markdown",
   "metadata": {},
   "source": [
    "# Setup"
   ]
  },
  {
   "cell_type": "code",
   "execution_count": 1,
   "metadata": {
    "ExecuteTime": {
     "end_time": "2018-05-06T23:52:10.758866Z",
     "start_time": "2018-05-06T23:52:09.826196Z"
    }
   },
   "outputs": [],
   "source": [
    "from collections import Counter, defaultdict\n",
    "from urllib.parse import urlparse\n",
    "\n",
    "import pandas as pd\n",
    "import numpy as np\n",
    "import seaborn as sns\n",
    "\n",
    "import matplotlib.pyplot as plt\n",
    "%matplotlib inline\n",
    "\n",
    "import project3utils"
   ]
  },
  {
   "cell_type": "code",
   "execution_count": 2,
   "metadata": {
    "ExecuteTime": {
     "end_time": "2018-05-06T23:52:10.890348Z",
     "start_time": "2018-05-06T23:52:10.760090Z"
    }
   },
   "outputs": [],
   "source": [
    "df = pd.read_csv('data/phishtank2018-05-02_verified_online.csv')"
   ]
  },
  {
   "cell_type": "code",
   "execution_count": 3,
   "metadata": {
    "ExecuteTime": {
     "end_time": "2018-05-06T23:52:10.911853Z",
     "start_time": "2018-05-06T23:52:10.891927Z"
    }
   },
   "outputs": [
    {
     "name": "stdout",
     "output_type": "stream",
     "text": [
      "<class 'pandas.core.frame.DataFrame'>\n",
      "RangeIndex: 32660 entries, 0 to 32659\n",
      "Data columns (total 8 columns):\n",
      "phish_id             32660 non-null int64\n",
      "url                  32660 non-null object\n",
      "phish_detail_url     32660 non-null object\n",
      "submission_time      32660 non-null object\n",
      "verified             32660 non-null object\n",
      "verification_time    32660 non-null object\n",
      "online               32660 non-null object\n",
      "target               32660 non-null object\n",
      "dtypes: int64(1), object(7)\n",
      "memory usage: 2.0+ MB\n"
     ]
    }
   ],
   "source": [
    "df.info()"
   ]
  },
  {
   "cell_type": "code",
   "execution_count": 4,
   "metadata": {
    "ExecuteTime": {
     "end_time": "2018-05-06T23:52:11.986497Z",
     "start_time": "2018-05-06T23:52:10.916075Z"
    }
   },
   "outputs": [],
   "source": [
    "df_counts = pd.DataFrame(list(df.head(10000).url.apply(project3utils.get_features_from_url)), dtype=np.float64)"
   ]
  },
  {
   "cell_type": "code",
   "execution_count": 5,
   "metadata": {
    "ExecuteTime": {
     "end_time": "2018-05-06T23:52:12.859140Z",
     "start_time": "2018-05-06T23:52:11.987734Z"
    }
   },
   "outputs": [
    {
     "data": {
      "text/plain": [
       "path_total_chars             32.4592\n",
       "domain_total_chars           15.4995\n",
       "path_consonants              15.4385\n",
       "domain_consonants             8.8124\n",
       "path_vowels                   7.6305\n",
       "domain_vowels                 5.0283\n",
       "path_digits                   4.6751\n",
       "subdomain_total_chars         3.6305\n",
       "path_char_slash               3.3520\n",
       "subdomain_consonants          2.1840\n",
       "domain_char_dot               1.1021\n",
       "subdomain_vowels              0.9508\n",
       "path_char_dot                 0.6479\n",
       "subdomain_empty_string        0.5446\n",
       "domain_digits                 0.4190\n",
       "subdomain_digits              0.3649\n",
       "path_char_hyphen              0.3262\n",
       "subdomain_is_www              0.1843\n",
       "https                         0.1730\n",
       "domain_char_hyphen            0.1365\n",
       "path_char_underscore          0.1096\n",
       "subdomain_char_hyphen         0.0705\n",
       "subdomain_char_dot            0.0599\n",
       "domain_is_raw_ip              0.0099\n",
       "path_empty_string             0.0094\n",
       "path_char_colon               0.0012\n",
       "domain_char_colon             0.0012\n",
       "subdomain_char_underscore     0.0002\n",
       "subdomain_char_colon          0.0001\n",
       "domain_empty_string           0.0000\n",
       "domain_char_underscore        0.0000\n",
       "domain_char_slash             0.0000\n",
       "subdomain_char_slash          0.0000\n",
       "dtype: float64"
      ]
     },
     "execution_count": 5,
     "metadata": {},
     "output_type": "execute_result"
    }
   ],
   "source": [
    "df_counts.mean().sort_values(ascending=False)"
   ]
  },
  {
   "cell_type": "code",
   "execution_count": 6,
   "metadata": {
    "ExecuteTime": {
     "end_time": "2018-05-06T23:52:12.876342Z",
     "start_time": "2018-05-06T23:52:12.860422Z"
    }
   },
   "outputs": [
    {
     "data": {
      "text/html": [
       "<div>\n",
       "<style>\n",
       "    .dataframe thead tr:only-child th {\n",
       "        text-align: right;\n",
       "    }\n",
       "\n",
       "    .dataframe thead th {\n",
       "        text-align: left;\n",
       "    }\n",
       "\n",
       "    .dataframe tbody tr th {\n",
       "        vertical-align: top;\n",
       "    }\n",
       "</style>\n",
       "<table border=\"1\" class=\"dataframe\">\n",
       "  <thead>\n",
       "    <tr style=\"text-align: right;\">\n",
       "      <th></th>\n",
       "      <th>search_term</th>\n",
       "      <th>market</th>\n",
       "      <th>url</th>\n",
       "    </tr>\n",
       "  </thead>\n",
       "  <tbody>\n",
       "    <tr>\n",
       "      <th>0</th>\n",
       "      <td>management</td>\n",
       "      <td>en-US</td>\n",
       "      <td>https://www.merriam-webster.com/dictionary/man...</td>\n",
       "    </tr>\n",
       "    <tr>\n",
       "      <th>1</th>\n",
       "      <td>management</td>\n",
       "      <td>en-US</td>\n",
       "      <td>https://en.wikipedia.org/wiki/Management</td>\n",
       "    </tr>\n",
       "    <tr>\n",
       "      <th>2</th>\n",
       "      <td>management</td>\n",
       "      <td>en-US</td>\n",
       "      <td>http://www.businessdictionary.com/definition/m...</td>\n",
       "    </tr>\n",
       "    <tr>\n",
       "      <th>3</th>\n",
       "      <td>management</td>\n",
       "      <td>en-US</td>\n",
       "      <td>https://www.forbes.com/management/</td>\n",
       "    </tr>\n",
       "    <tr>\n",
       "      <th>4</th>\n",
       "      <td>management</td>\n",
       "      <td>en-US</td>\n",
       "      <td>https://www.thebalancecareers.com/management-4...</td>\n",
       "    </tr>\n",
       "  </tbody>\n",
       "</table>\n",
       "</div>"
      ],
      "text/plain": [
       "  search_term market                                                url\n",
       "0  management  en-US  https://www.merriam-webster.com/dictionary/man...\n",
       "1  management  en-US           https://en.wikipedia.org/wiki/Management\n",
       "2  management  en-US  http://www.businessdictionary.com/definition/m...\n",
       "3  management  en-US                 https://www.forbes.com/management/\n",
       "4  management  en-US  https://www.thebalancecareers.com/management-4..."
      ]
     },
     "execution_count": 6,
     "metadata": {},
     "output_type": "execute_result"
    }
   ],
   "source": [
    "valid_df = pd.read_csv('data/bing_search_results.csv')\n",
    "valid_df.head()"
   ]
  },
  {
   "cell_type": "code",
   "execution_count": 7,
   "metadata": {
    "ExecuteTime": {
     "end_time": "2018-05-06T23:52:13.905872Z",
     "start_time": "2018-05-06T23:52:12.877525Z"
    }
   },
   "outputs": [],
   "source": [
    "valid_df_counts = pd.DataFrame(list(valid_df.url.apply(project3utils.get_features_from_url)), dtype=np.float64)"
   ]
  },
  {
   "cell_type": "code",
   "execution_count": 8,
   "metadata": {
    "ExecuteTime": {
     "end_time": "2018-05-06T23:52:14.622952Z",
     "start_time": "2018-05-06T23:52:13.907936Z"
    }
   },
   "outputs": [
    {
     "data": {
      "text/plain": [
       "path_total_chars             18.8800\n",
       "domain_total_chars           14.2380\n",
       "path_consonants               9.5061\n",
       "domain_consonants             7.9677\n",
       "path_vowels                   5.5006\n",
       "domain_vowels                 5.0772\n",
       "subdomain_total_chars         3.4524\n",
       "subdomain_consonants          2.8617\n",
       "path_char_slash               1.9983\n",
       "domain_char_dot               1.1143\n",
       "path_digits                   0.8855\n",
       "path_char_hyphen              0.6763\n",
       "subdomain_is_www              0.6564\n",
       "https                         0.6421\n",
       "subdomain_vowels              0.5422\n",
       "path_char_dot                 0.1442\n",
       "subdomain_empty_string        0.1148\n",
       "path_char_underscore          0.1055\n",
       "domain_char_hyphen            0.0584\n",
       "subdomain_char_dot            0.0224\n",
       "domain_digits                 0.0204\n",
       "subdomain_char_hyphen         0.0186\n",
       "subdomain_digits              0.0075\n",
       "path_char_colon               0.0011\n",
       "path_empty_string             0.0000\n",
       "subdomain_char_colon          0.0000\n",
       "subdomain_char_slash          0.0000\n",
       "domain_is_raw_ip              0.0000\n",
       "domain_empty_string           0.0000\n",
       "subdomain_char_underscore     0.0000\n",
       "domain_char_underscore        0.0000\n",
       "domain_char_slash             0.0000\n",
       "domain_char_colon             0.0000\n",
       "dtype: float64"
      ]
     },
     "execution_count": 8,
     "metadata": {},
     "output_type": "execute_result"
    }
   ],
   "source": [
    "valid_df_counts.mean().sort_values(ascending=False)"
   ]
  },
  {
   "cell_type": "code",
   "execution_count": 9,
   "metadata": {
    "ExecuteTime": {
     "end_time": "2018-05-06T23:52:14.726956Z",
     "start_time": "2018-05-06T23:52:14.624395Z"
    }
   },
   "outputs": [
    {
     "data": {
      "text/plain": [
       "is_phishing                  1.000000\n",
       "subdomain_empty_string       0.457133\n",
       "path_char_slash              0.385751\n",
       "path_char_dot                0.354019\n",
       "path_total_chars             0.272223\n",
       "path_digits                  0.255262\n",
       "domain_digits                0.246363\n",
       "path_consonants              0.230433\n",
       "path_vowels                  0.171452\n",
       "subdomain_digits             0.138797\n",
       "domain_consonants            0.138340\n",
       "domain_total_chars           0.129308\n",
       "subdomain_vowels             0.112652\n",
       "domain_char_hyphen           0.111730\n",
       "subdomain_char_hyphen        0.083987\n",
       "subdomain_char_dot           0.074609\n",
       "domain_is_raw_ip             0.070531\n",
       "path_empty_string            0.068718\n",
       "domain_char_colon            0.024502\n",
       "subdomain_total_chars        0.017399\n",
       "subdomain_char_underscore    0.010001\n",
       "subdomain_char_colon         0.007071\n",
       "path_char_underscore         0.004351\n",
       "path_char_colon              0.001231\n",
       "domain_vowels               -0.011398\n",
       "domain_char_dot             -0.019637\n",
       "subdomain_consonants        -0.120857\n",
       "path_char_hyphen            -0.129827\n",
       "https                       -0.477330\n",
       "subdomain_is_www            -0.478207\n",
       "domain_char_slash                 NaN\n",
       "domain_char_underscore            NaN\n",
       "domain_empty_string               NaN\n",
       "subdomain_char_slash              NaN\n",
       "Name: is_phishing, dtype: float64"
      ]
     },
     "execution_count": 9,
     "metadata": {},
     "output_type": "execute_result"
    }
   ],
   "source": [
    "df_counts['is_phishing'] = 1\n",
    "valid_df_counts['is_phishing'] = 0\n",
    "\n",
    "data = pd.concat([df_counts, valid_df_counts], ignore_index=True)\n",
    "data.corr()['is_phishing'].sort_values(ascending=False)"
   ]
  },
  {
   "cell_type": "markdown",
   "metadata": {},
   "source": [
    "# Modeling"
   ]
  },
  {
   "cell_type": "code",
   "execution_count": 10,
   "metadata": {
    "ExecuteTime": {
     "end_time": "2018-05-06T23:52:14.960450Z",
     "start_time": "2018-05-06T23:52:14.730256Z"
    }
   },
   "outputs": [],
   "source": [
    "from sklearn.tree import DecisionTreeClassifier\n",
    "from sklearn.svm import LinearSVC\n",
    "from sklearn.svm import SVC\n",
    "from sklearn.ensemble import RandomForestClassifier\n",
    "from sklearn.linear_model import LogisticRegression\n",
    "from sklearn.dummy import DummyClassifier\n",
    "from sklearn.model_selection import train_test_split\n",
    "from sklearn.metrics import f1_score\n",
    "from sklearn.externals import joblib"
   ]
  },
  {
   "cell_type": "code",
   "execution_count": 11,
   "metadata": {
    "ExecuteTime": {
     "end_time": "2018-05-06T23:52:14.981890Z",
     "start_time": "2018-05-06T23:52:14.969325Z"
    }
   },
   "outputs": [],
   "source": [
    "X = data[project3utils.numeric_feature_columns]\n",
    "y = data['is_phishing']"
   ]
  },
  {
   "cell_type": "code",
   "execution_count": 12,
   "metadata": {
    "ExecuteTime": {
     "end_time": "2018-05-06T23:52:16.135901Z",
     "start_time": "2018-05-06T23:52:14.989111Z"
    }
   },
   "outputs": [
    {
     "data": {
      "text/plain": [
       "(0.93420000000000003, 0.93370944992947802)"
      ]
     },
     "execution_count": 12,
     "metadata": {},
     "output_type": "execute_result"
    }
   ],
   "source": [
    "X_train, X_test, y_train, y_test = train_test_split(X, y, test_size=0.5, random_state=987)\n",
    "# model = DummyClassifier()\n",
    "# model = LogisticRegression()\n",
    "# model = LinearSVC()\n",
    "# model = SVC()\n",
    "# model = DecisionTreeClassifier()\n",
    "model = RandomForestClassifier(n_estimators=100, criterion='gini')\n",
    "model.fit(X_train, y_train)\n",
    "(model.score(X_test, y_test), f1_score(y_test, model.predict(X_test)))"
   ]
  },
  {
   "cell_type": "code",
   "execution_count": 13,
   "metadata": {
    "ExecuteTime": {
     "end_time": "2018-05-06T23:52:16.141040Z",
     "start_time": "2018-05-06T23:52:16.137277Z"
    }
   },
   "outputs": [],
   "source": [
    "def predict_for_url(url):\n",
    "    features = project3utils.get_numeric_features_list_from_url(url)\n",
    "    return model.predict_proba([features])"
   ]
  },
  {
   "cell_type": "code",
   "execution_count": 14,
   "metadata": {
    "ExecuteTime": {
     "end_time": "2018-05-06T23:52:16.155794Z",
     "start_time": "2018-05-06T23:52:16.142960Z"
    }
   },
   "outputs": [
    {
     "data": {
      "text/plain": [
       "array([[ 0.23,  0.77]])"
      ]
     },
     "execution_count": 14,
     "metadata": {},
     "output_type": "execute_result"
    }
   ],
   "source": [
    "predict_for_url('https://www.wikipedia.org')"
   ]
  },
  {
   "cell_type": "code",
   "execution_count": 15,
   "metadata": {
    "ExecuteTime": {
     "end_time": "2018-05-06T23:52:16.399718Z",
     "start_time": "2018-05-06T23:52:16.157876Z"
    }
   },
   "outputs": [
    {
     "data": {
      "text/plain": [
       "['model.pkl']"
      ]
     },
     "execution_count": 15,
     "metadata": {},
     "output_type": "execute_result"
    }
   ],
   "source": [
    "joblib.dump(model, 'model.pkl')"
   ]
  },
  {
   "cell_type": "code",
   "execution_count": null,
   "metadata": {},
   "outputs": [],
   "source": []
  }
 ],
 "metadata": {
  "kernelspec": {
   "display_name": "Python [conda env:anaconda3]",
   "language": "python",
   "name": "conda-env-anaconda3-py"
  },
  "language_info": {
   "codemirror_mode": {
    "name": "ipython",
    "version": 3
   },
   "file_extension": ".py",
   "mimetype": "text/x-python",
   "name": "python",
   "nbconvert_exporter": "python",
   "pygments_lexer": "ipython3",
   "version": "3.6.3"
  },
  "toc": {
   "base_numbering": 1,
   "nav_menu": {},
   "number_sections": true,
   "sideBar": true,
   "skip_h1_title": false,
   "title_cell": "Table of Contents",
   "title_sidebar": "Contents",
   "toc_cell": false,
   "toc_position": {},
   "toc_section_display": true,
   "toc_window_display": false
  },
  "varInspector": {
   "cols": {
    "lenName": 16,
    "lenType": 16,
    "lenVar": 40
   },
   "kernels_config": {
    "python": {
     "delete_cmd_postfix": "",
     "delete_cmd_prefix": "del ",
     "library": "var_list.py",
     "varRefreshCmd": "print(var_dic_list())"
    },
    "r": {
     "delete_cmd_postfix": ") ",
     "delete_cmd_prefix": "rm(",
     "library": "var_list.r",
     "varRefreshCmd": "cat(var_dic_list()) "
    }
   },
   "types_to_exclude": [
    "module",
    "function",
    "builtin_function_or_method",
    "instance",
    "_Feature"
   ],
   "window_display": false
  }
 },
 "nbformat": 4,
 "nbformat_minor": 2
}
