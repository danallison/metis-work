{
 "cells": [
  {
   "cell_type": "code",
   "execution_count": 1,
   "metadata": {
    "ExecuteTime": {
     "end_time": "2018-05-07T23:54:11.915260Z",
     "start_time": "2018-05-07T23:54:11.236583Z"
    }
   },
   "outputs": [],
   "source": [
    "import pandas as pd\n",
    "import numpy as np\n",
    "import seaborn as sns\n",
    "\n",
    "import matplotlib.pyplot as plt\n",
    "%matplotlib inline\n",
    "plt.style.use('seaborn-darkgrid')\n",
    "\n",
    "import requests\n",
    "from time import sleep\n",
    "from bs4 import BeautifulSoup\n",
    "import csv\n",
    "from urllib.parse import urlparse\n",
    "from random import shuffle, sample"
   ]
  },
  {
   "cell_type": "code",
   "execution_count": 2,
   "metadata": {
    "ExecuteTime": {
     "end_time": "2018-05-07T23:54:13.533076Z",
     "start_time": "2018-05-07T23:54:13.509517Z"
    }
   },
   "outputs": [
    {
     "data": {
      "text/plain": [
       "3513"
      ]
     },
     "execution_count": 2,
     "metadata": {},
     "output_type": "execute_result"
    }
   ],
   "source": [
    "bing_df = pd.read_csv('data/bing_search_results.csv')\n",
    "domains = set()\n",
    "with open('data/scraped_urls.txt', 'r') as file:\n",
    "    urls = set([url.strip() for url in file])\n",
    "len(urls)"
   ]
  },
  {
   "cell_type": "code",
   "execution_count": 3,
   "metadata": {
    "ExecuteTime": {
     "end_time": "2018-05-07T23:54:16.194727Z",
     "start_time": "2018-05-07T23:54:16.191558Z"
    }
   },
   "outputs": [],
   "source": [
    "def random_search_result():\n",
    "    return bing_df.sample(1).iloc[0].url"
   ]
  },
  {
   "cell_type": "code",
   "execution_count": null,
   "metadata": {
    "ExecuteTime": {
     "start_time": "2018-05-07T23:51:16.302Z"
    }
   },
   "outputs": [],
   "source": [
    "url = None\n",
    "depth = 0\n",
    "search_count = 0\n",
    "request_count = 0\n",
    "i = 0\n",
    "while len(urls) < 1e4:\n",
    "    sleep(0.5)\n",
    "    if not url:\n",
    "        url = random_search_result()\n",
    "        search_count += 1\n",
    "        while urlparse(url).netloc in domains:\n",
    "            search_count += 1\n",
    "            url = random_search_result()\n",
    "        depth = 0\n",
    "    try:\n",
    "        request_count += 1\n",
    "        response = requests.get(url)\n",
    "    except:\n",
    "        url = None\n",
    "        continue\n",
    "    soup = BeautifulSoup(response.text,\"lxml\")\n",
    "    a_tags = soup.find_all('a')\n",
    "    shuffle(a_tags)\n",
    "    url = None\n",
    "    for a_tag in a_tags:\n",
    "        href = a_tag.get('href')\n",
    "        if href and href[0:4] == 'http':\n",
    "            domain = urlparse(href).netloc\n",
    "            if not domain in domains:\n",
    "                domains.add(domain)\n",
    "                urls.add(href)\n",
    "                url = href\n",
    "    depth += 1\n",
    "    i += 1\n",
    "    if depth > 100: url = None\n",
    "    with open('data/scraped_urls.txt', 'w') as file:\n",
    "        file.write(\"\\n\".join(urls))\n",
    "    print('depth: {}, urls: {}, search: {}, requests: {}, iters: {} '.format(depth, len(urls), search_count, request_count, i), end='\\r')\n",
    "    "
   ]
  },
  {
   "cell_type": "code",
   "execution_count": null,
   "metadata": {
    "ExecuteTime": {
     "end_time": "2018-05-07T23:45:48.991862Z",
     "start_time": "2018-05-07T23:45:48.882465Z"
    }
   },
   "outputs": [],
   "source": [
    "with open('data/scraped_urls.txt', 'w') as file:\n",
    "    file.write(\"\\n\".join(urls))"
   ]
  },
  {
   "cell_type": "code",
   "execution_count": null,
   "metadata": {},
   "outputs": [],
   "source": []
  }
 ],
 "metadata": {
  "kernelspec": {
   "display_name": "Python [conda env:anaconda3]",
   "language": "python",
   "name": "conda-env-anaconda3-py"
  },
  "language_info": {
   "codemirror_mode": {
    "name": "ipython",
    "version": 3
   },
   "file_extension": ".py",
   "mimetype": "text/x-python",
   "name": "python",
   "nbconvert_exporter": "python",
   "pygments_lexer": "ipython3",
   "version": "3.6.3"
  },
  "toc": {
   "base_numbering": 1,
   "nav_menu": {},
   "number_sections": true,
   "sideBar": true,
   "skip_h1_title": false,
   "title_cell": "Table of Contents",
   "title_sidebar": "Contents",
   "toc_cell": false,
   "toc_position": {},
   "toc_section_display": true,
   "toc_window_display": false
  },
  "varInspector": {
   "cols": {
    "lenName": 16,
    "lenType": 16,
    "lenVar": 40
   },
   "kernels_config": {
    "python": {
     "delete_cmd_postfix": "",
     "delete_cmd_prefix": "del ",
     "library": "var_list.py",
     "varRefreshCmd": "print(var_dic_list())"
    },
    "r": {
     "delete_cmd_postfix": ") ",
     "delete_cmd_prefix": "rm(",
     "library": "var_list.r",
     "varRefreshCmd": "cat(var_dic_list()) "
    }
   },
   "types_to_exclude": [
    "module",
    "function",
    "builtin_function_or_method",
    "instance",
    "_Feature"
   ],
   "window_display": false
  }
 },
 "nbformat": 4,
 "nbformat_minor": 2
}
