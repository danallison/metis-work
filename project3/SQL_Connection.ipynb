{
 "cells": [
  {
   "cell_type": "code",
   "execution_count": 1,
   "metadata": {
    "ExecuteTime": {
     "end_time": "2018-05-03T20:31:28.522735Z",
     "start_time": "2018-05-03T20:31:27.937111Z"
    }
   },
   "outputs": [],
   "source": [
    "from sqlalchemy import create_engine\n",
    "\n",
    "import pandas as pd\n",
    "import numpy as np\n",
    "import seaborn as sns\n",
    "\n",
    "import matplotlib.pyplot as plt\n",
    "%matplotlib inline"
   ]
  },
  {
   "cell_type": "code",
   "execution_count": 2,
   "metadata": {
    "ExecuteTime": {
     "end_time": "2018-05-03T20:31:29.960505Z",
     "start_time": "2018-05-03T20:31:29.954498Z"
    }
   },
   "outputs": [],
   "source": [
    "import secrets"
   ]
  },
  {
   "cell_type": "code",
   "execution_count": 3,
   "metadata": {
    "ExecuteTime": {
     "end_time": "2018-05-03T20:31:31.402014Z",
     "start_time": "2018-05-03T20:31:31.345967Z"
    }
   },
   "outputs": [],
   "source": [
    "sql_engine = create_engine('postgresql://{user}:{password}@{host}:{port}/{user}'.format(\n",
    "    user=secrets.pg_user,\n",
    "    password=secrets.pg_password,\n",
    "    host='localhost',\n",
    "    port='5433'\n",
    "))"
   ]
  },
  {
   "cell_type": "code",
   "execution_count": 4,
   "metadata": {
    "ExecuteTime": {
     "end_time": "2018-05-03T20:31:33.160443Z",
     "start_time": "2018-05-03T20:31:33.135470Z"
    }
   },
   "outputs": [
    {
     "data": {
      "text/plain": [
       "(1, 'a', '1')"
      ]
     },
     "execution_count": 4,
     "metadata": {},
     "output_type": "execute_result"
    }
   ],
   "source": [
    "with sql_engine.connect() as connection:\n",
    "    id, key, val = connection.execute(\n",
    "        'select * from foo limit 1'\n",
    "    ).fetchone()\n",
    "(id, key, val)"
   ]
  },
  {
   "cell_type": "markdown",
   "metadata": {},
   "source": [
    "## Connect to remote DB via SSH\n",
    "\n",
    "adapted from https://stackoverflow.com/questions/31506958/sqlalchemy-through-paramiko-ssh#31508516"
   ]
  },
  {
   "cell_type": "code",
   "execution_count": 18,
   "metadata": {
    "ExecuteTime": {
     "end_time": "2018-05-03T20:44:34.007242Z",
     "start_time": "2018-05-03T20:44:33.971130Z"
    }
   },
   "outputs": [],
   "source": [
    "from sshtunnel import SSHTunnelForwarder\n",
    "from sqlalchemy.orm import sessionmaker\n",
    "\n",
    "def with_remote_sql_session(function):\n",
    "    with SSHTunnelForwarder(\n",
    "            (secrets.server_ip_address, 22),\n",
    "            ssh_username=secrets.ssh_username,\n",
    "            ssh_pkey=secrets.ssh_private_key_path,\n",
    "            ssh_private_key_password=secrets.ssh_private_key_password,\n",
    "            remote_bind_address=('127.0.0.1', 5433)\n",
    "        ) as server:\n",
    "\n",
    "        server.start() #start ssh sever\n",
    "\n",
    "        #connect to PostgreSQL\n",
    "        local_port = str(server.local_bind_port)\n",
    "        engine = create_engine('postgresql://{user}:{password}@{host}:{port}/{user}'.format(\n",
    "            user=secrets.pg_user,\n",
    "            password=secrets.pg_password,\n",
    "            host='localhost',\n",
    "            port=local_port\n",
    "        ))\n",
    "\n",
    "        Session = sessionmaker(bind=engine)\n",
    "        session = Session()\n",
    "        try:\n",
    "            return_val = function(session)\n",
    "        finally:\n",
    "            session.close()\n",
    "            return return_val\n"
   ]
  },
  {
   "cell_type": "code",
   "execution_count": 19,
   "metadata": {
    "ExecuteTime": {
     "end_time": "2018-05-03T20:44:37.527695Z",
     "start_time": "2018-05-03T20:44:34.935774Z"
    }
   },
   "outputs": [
    {
     "data": {
      "text/plain": [
       "(1, 'key', 'val')"
      ]
     },
     "execution_count": 19,
     "metadata": {},
     "output_type": "execute_result"
    }
   ],
   "source": [
    "def get_foo(session):\n",
    "    return session.execute('select * from foo').fetchone()\n",
    "\n",
    "with_remote_sql_session(get_foo)"
   ]
  },
  {
   "cell_type": "code",
   "execution_count": null,
   "metadata": {},
   "outputs": [],
   "source": []
  }
 ],
 "metadata": {
  "kernelspec": {
   "display_name": "Python [conda env:anaconda3]",
   "language": "python",
   "name": "conda-env-anaconda3-py"
  },
  "language_info": {
   "codemirror_mode": {
    "name": "ipython",
    "version": 3
   },
   "file_extension": ".py",
   "mimetype": "text/x-python",
   "name": "python",
   "nbconvert_exporter": "python",
   "pygments_lexer": "ipython3",
   "version": "3.6.3"
  },
  "toc": {
   "base_numbering": 1,
   "nav_menu": {},
   "number_sections": true,
   "sideBar": true,
   "skip_h1_title": false,
   "title_cell": "Table of Contents",
   "title_sidebar": "Contents",
   "toc_cell": false,
   "toc_position": {},
   "toc_section_display": true,
   "toc_window_display": false
  },
  "varInspector": {
   "cols": {
    "lenName": 16,
    "lenType": 16,
    "lenVar": 40
   },
   "kernels_config": {
    "python": {
     "delete_cmd_postfix": "",
     "delete_cmd_prefix": "del ",
     "library": "var_list.py",
     "varRefreshCmd": "print(var_dic_list())"
    },
    "r": {
     "delete_cmd_postfix": ") ",
     "delete_cmd_prefix": "rm(",
     "library": "var_list.r",
     "varRefreshCmd": "cat(var_dic_list()) "
    }
   },
   "types_to_exclude": [
    "module",
    "function",
    "builtin_function_or_method",
    "instance",
    "_Feature"
   ],
   "window_display": false
  }
 },
 "nbformat": 4,
 "nbformat_minor": 2
}
